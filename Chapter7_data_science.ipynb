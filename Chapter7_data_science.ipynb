{
  "cells": [
    {
      "cell_type": "markdown",
      "metadata": {
        "id": "ahIRZj6K-3-o"
      },
      "source": [
        "# Chapter 7:  Data Science"
      ]
    },
    {
      "cell_type": "markdown",
      "metadata": {
        "id": "Hc7QdhV05VUF"
      },
      "source": []
    },
    {
      "cell_type": "markdown",
      "metadata": {
        "id": "NS0R02LQwG_2"
      },
      "source": [
        "## Ingest"
      ]
    },
    {
      "cell_type": "markdown",
      "metadata": {
        "id": "NJntteRBwI46"
      },
      "source": [
        "*COVID-19 Data from [New York Times Github](https://github.com/nytimes/covid-19-data)*"
      ]
    },
    {
      "cell_type": "code",
      "execution_count": 1,
      "metadata": {
        "colab": {
          "base_uri": "https://localhost:8080/",
          "height": 202
        },
        "id": "1ABhk0OLwejq",
        "outputId": "985ccf95-9dfc-40fe-8281-6484b9bc3377"
      },
      "outputs": [
        {
          "data": {
            "text/html": [
              "<div>\n",
              "<style scoped>\n",
              "    .dataframe tbody tr th:only-of-type {\n",
              "        vertical-align: middle;\n",
              "    }\n",
              "\n",
              "    .dataframe tbody tr th {\n",
              "        vertical-align: top;\n",
              "    }\n",
              "\n",
              "    .dataframe thead th {\n",
              "        text-align: right;\n",
              "    }\n",
              "</style>\n",
              "<table border=\"1\" class=\"dataframe\">\n",
              "  <thead>\n",
              "    <tr style=\"text-align: right;\">\n",
              "      <th></th>\n",
              "      <th>date</th>\n",
              "      <th>state</th>\n",
              "      <th>fips</th>\n",
              "      <th>cases</th>\n",
              "      <th>deaths</th>\n",
              "    </tr>\n",
              "  </thead>\n",
              "  <tbody>\n",
              "    <tr>\n",
              "      <th>0</th>\n",
              "      <td>2020-01-21</td>\n",
              "      <td>Washington</td>\n",
              "      <td>53</td>\n",
              "      <td>1</td>\n",
              "      <td>0</td>\n",
              "    </tr>\n",
              "    <tr>\n",
              "      <th>1</th>\n",
              "      <td>2020-01-22</td>\n",
              "      <td>Washington</td>\n",
              "      <td>53</td>\n",
              "      <td>1</td>\n",
              "      <td>0</td>\n",
              "    </tr>\n",
              "    <tr>\n",
              "      <th>2</th>\n",
              "      <td>2020-01-23</td>\n",
              "      <td>Washington</td>\n",
              "      <td>53</td>\n",
              "      <td>1</td>\n",
              "      <td>0</td>\n",
              "    </tr>\n",
              "    <tr>\n",
              "      <th>3</th>\n",
              "      <td>2020-01-24</td>\n",
              "      <td>Illinois</td>\n",
              "      <td>17</td>\n",
              "      <td>1</td>\n",
              "      <td>0</td>\n",
              "    </tr>\n",
              "    <tr>\n",
              "      <th>4</th>\n",
              "      <td>2020-01-24</td>\n",
              "      <td>Washington</td>\n",
              "      <td>53</td>\n",
              "      <td>1</td>\n",
              "      <td>0</td>\n",
              "    </tr>\n",
              "  </tbody>\n",
              "</table>\n",
              "</div>"
            ],
            "text/plain": [
              "         date       state  fips  cases  deaths\n",
              "0  2020-01-21  Washington    53      1       0\n",
              "1  2020-01-22  Washington    53      1       0\n",
              "2  2020-01-23  Washington    53      1       0\n",
              "3  2020-01-24    Illinois    17      1       0\n",
              "4  2020-01-24  Washington    53      1       0"
            ]
          },
          "execution_count": 1,
          "metadata": {},
          "output_type": "execute_result"
        }
      ],
      "source": [
        "import pandas as pd\n",
        "df = pd.read_csv(\"us-states.csv\")\n",
        "df.head()"
      ]
    },
    {
      "cell_type": "markdown",
      "metadata": {
        "id": "1iMW3XxnkUXF"
      },
      "source": [
        "Last five rows"
      ]
    },
    {
      "cell_type": "code",
      "execution_count": 2,
      "metadata": {
        "colab": {
          "base_uri": "https://localhost:8080/",
          "height": 202
        },
        "id": "opOpFijSkXR6",
        "outputId": "8425ed2f-b1b0-4516-a217-0f4efdf30d2a"
      },
      "outputs": [
        {
          "data": {
            "text/html": [
              "<div>\n",
              "<style scoped>\n",
              "    .dataframe tbody tr th:only-of-type {\n",
              "        vertical-align: middle;\n",
              "    }\n",
              "\n",
              "    .dataframe tbody tr th {\n",
              "        vertical-align: top;\n",
              "    }\n",
              "\n",
              "    .dataframe thead th {\n",
              "        text-align: right;\n",
              "    }\n",
              "</style>\n",
              "<table border=\"1\" class=\"dataframe\">\n",
              "  <thead>\n",
              "    <tr style=\"text-align: right;\">\n",
              "      <th></th>\n",
              "      <th>date</th>\n",
              "      <th>state</th>\n",
              "      <th>fips</th>\n",
              "      <th>cases</th>\n",
              "      <th>deaths</th>\n",
              "    </tr>\n",
              "  </thead>\n",
              "  <tbody>\n",
              "    <tr>\n",
              "      <th>61937</th>\n",
              "      <td>2023-03-23</td>\n",
              "      <td>Virginia</td>\n",
              "      <td>51</td>\n",
              "      <td>2298300</td>\n",
              "      <td>23782</td>\n",
              "    </tr>\n",
              "    <tr>\n",
              "      <th>61938</th>\n",
              "      <td>2023-03-23</td>\n",
              "      <td>Washington</td>\n",
              "      <td>53</td>\n",
              "      <td>1940704</td>\n",
              "      <td>15905</td>\n",
              "    </tr>\n",
              "    <tr>\n",
              "      <th>61939</th>\n",
              "      <td>2023-03-23</td>\n",
              "      <td>West Virginia</td>\n",
              "      <td>54</td>\n",
              "      <td>645710</td>\n",
              "      <td>8132</td>\n",
              "    </tr>\n",
              "    <tr>\n",
              "      <th>61940</th>\n",
              "      <td>2023-03-23</td>\n",
              "      <td>Wisconsin</td>\n",
              "      <td>55</td>\n",
              "      <td>2014524</td>\n",
              "      <td>16485</td>\n",
              "    </tr>\n",
              "    <tr>\n",
              "      <th>61941</th>\n",
              "      <td>2023-03-23</td>\n",
              "      <td>Wyoming</td>\n",
              "      <td>56</td>\n",
              "      <td>185800</td>\n",
              "      <td>2014</td>\n",
              "    </tr>\n",
              "  </tbody>\n",
              "</table>\n",
              "</div>"
            ],
            "text/plain": [
              "             date          state  fips    cases  deaths\n",
              "61937  2023-03-23       Virginia    51  2298300   23782\n",
              "61938  2023-03-23     Washington    53  1940704   15905\n",
              "61939  2023-03-23  West Virginia    54   645710    8132\n",
              "61940  2023-03-23      Wisconsin    55  2014524   16485\n",
              "61941  2023-03-23        Wyoming    56   185800    2014"
            ]
          },
          "execution_count": 2,
          "metadata": {},
          "output_type": "execute_result"
        }
      ],
      "source": [
        "df.tail()"
      ]
    },
    {
      "cell_type": "markdown",
      "metadata": {
        "id": "zr7wdjHswKfq"
      },
      "source": [
        "*What are the columns?*"
      ]
    },
    {
      "cell_type": "code",
      "execution_count": 3,
      "metadata": {
        "colab": {
          "base_uri": "https://localhost:8080/",
          "height": 35
        },
        "id": "DwAMxSNSwNWj",
        "outputId": "ebd41475-85cc-4166-de5c-5595b0d0e222"
      },
      "outputs": [
        {
          "data": {
            "text/plain": [
              "Index(['date', 'state', 'fips', 'cases', 'deaths'], dtype='object')"
            ]
          },
          "execution_count": 3,
          "metadata": {},
          "output_type": "execute_result"
        }
      ],
      "source": [
        "df.columns"
      ]
    },
    {
      "cell_type": "markdown",
      "metadata": {
        "id": "Q3njEtIJwSCi"
      },
      "source": [
        "*What is the shape:  i.e. rows,columns?*"
      ]
    },
    {
      "cell_type": "code",
      "execution_count": 4,
      "metadata": {
        "colab": {
          "base_uri": "https://localhost:8080/",
          "height": 35
        },
        "id": "kyCznu1cwUv_",
        "outputId": "fb5ea532-c126-4225-ba7e-ca71249245ba"
      },
      "outputs": [
        {
          "data": {
            "text/plain": [
              "(61942, 5)"
            ]
          },
          "execution_count": 4,
          "metadata": {},
          "output_type": "execute_result"
        }
      ],
      "source": [
        "df.shape"
      ]
    },
    {
      "cell_type": "markdown",
      "metadata": {
        "id": "PY_nFEZKwI7R"
      },
      "source": [
        "## EDA"
      ]
    },
    {
      "cell_type": "markdown",
      "metadata": {
        "id": "nNw9of3LiQjU"
      },
      "source": [
        "*What are general characteristics of the data?  A good way to find out is `df.describe`*"
      ]
    },
    {
      "cell_type": "code",
      "execution_count": 5,
      "metadata": {
        "colab": {
          "base_uri": "https://localhost:8080/",
          "height": 295
        },
        "id": "IHuBZouXCYAZ",
        "outputId": "8e4826ed-e1d1-46c0-da39-86188dffc763"
      },
      "outputs": [
        {
          "data": {
            "text/html": [
              "<div>\n",
              "<style scoped>\n",
              "    .dataframe tbody tr th:only-of-type {\n",
              "        vertical-align: middle;\n",
              "    }\n",
              "\n",
              "    .dataframe tbody tr th {\n",
              "        vertical-align: top;\n",
              "    }\n",
              "\n",
              "    .dataframe thead th {\n",
              "        text-align: right;\n",
              "    }\n",
              "</style>\n",
              "<table border=\"1\" class=\"dataframe\">\n",
              "  <thead>\n",
              "    <tr style=\"text-align: right;\">\n",
              "      <th></th>\n",
              "      <th>fips</th>\n",
              "      <th>cases</th>\n",
              "      <th>deaths</th>\n",
              "    </tr>\n",
              "  </thead>\n",
              "  <tbody>\n",
              "    <tr>\n",
              "      <th>count</th>\n",
              "      <td>61942.000000</td>\n",
              "      <td>6.194200e+04</td>\n",
              "      <td>61942.000000</td>\n",
              "    </tr>\n",
              "    <tr>\n",
              "      <th>mean</th>\n",
              "      <td>32.247958</td>\n",
              "      <td>8.898301e+05</td>\n",
              "      <td>11779.067499</td>\n",
              "    </tr>\n",
              "    <tr>\n",
              "      <th>std</th>\n",
              "      <td>18.788383</td>\n",
              "      <td>1.470231e+06</td>\n",
              "      <td>17345.774849</td>\n",
              "    </tr>\n",
              "    <tr>\n",
              "      <th>min</th>\n",
              "      <td>1.000000</td>\n",
              "      <td>1.000000e+00</td>\n",
              "      <td>0.000000</td>\n",
              "    </tr>\n",
              "    <tr>\n",
              "      <th>25%</th>\n",
              "      <td>17.000000</td>\n",
              "      <td>7.078350e+04</td>\n",
              "      <td>1171.000000</td>\n",
              "    </tr>\n",
              "    <tr>\n",
              "      <th>50%</th>\n",
              "      <td>31.000000</td>\n",
              "      <td>3.514960e+05</td>\n",
              "      <td>5035.000000</td>\n",
              "    </tr>\n",
              "    <tr>\n",
              "      <th>75%</th>\n",
              "      <td>46.000000</td>\n",
              "      <td>1.043231e+06</td>\n",
              "      <td>14912.000000</td>\n",
              "    </tr>\n",
              "    <tr>\n",
              "      <th>max</th>\n",
              "      <td>78.000000</td>\n",
              "      <td>1.216916e+07</td>\n",
              "      <td>104277.000000</td>\n",
              "    </tr>\n",
              "  </tbody>\n",
              "</table>\n",
              "</div>"
            ],
            "text/plain": [
              "               fips         cases         deaths\n",
              "count  61942.000000  6.194200e+04   61942.000000\n",
              "mean      32.247958  8.898301e+05   11779.067499\n",
              "std       18.788383  1.470231e+06   17345.774849\n",
              "min        1.000000  1.000000e+00       0.000000\n",
              "25%       17.000000  7.078350e+04    1171.000000\n",
              "50%       31.000000  3.514960e+05    5035.000000\n",
              "75%       46.000000  1.043231e+06   14912.000000\n",
              "max       78.000000  1.216916e+07  104277.000000"
            ]
          },
          "execution_count": 5,
          "metadata": {},
          "output_type": "execute_result"
        }
      ],
      "source": [
        "df.describe()"
      ]
    },
    {
      "cell_type": "markdown",
      "metadata": {
        "id": "3YtAIL7HFjOw"
      },
      "source": [
        "*Cases and Deaths in the USA due to Covid-19*"
      ]
    },
    {
      "cell_type": "code",
      "execution_count": 6,
      "metadata": {
        "colab": {
          "base_uri": "https://localhost:8080/",
          "height": 297
        },
        "id": "C9vXU4_fCj-8",
        "outputId": "eb684f08-960c-4847-a492-150e26343549"
      },
      "outputs": [
        {
          "data": {
            "text/plain": [
              "<Axes: xlabel='cases', ylabel='deaths'>"
            ]
          },
          "execution_count": 6,
          "metadata": {},
          "output_type": "execute_result"
        },
        {
          "data": {
            "image/png": "[encoded data removed]",
            "text/plain": [
              "<Figure size 640x480 with 1 Axes>"
            ]
          },
          "metadata": {},
          "output_type": "display_data"
        }
      ],
      "source": [
        "import seaborn as sns\n",
        "sns.scatterplot(x=\"cases\", y=\"deaths\",\n",
        "                hue=\"deaths\",size=\"deaths\", data=df)"
      ]
    },
    {
      "cell_type": "markdown",
      "metadata": {
        "id": "O_pRge294dFK"
      },
      "source": [
        "### Date-based EDA"
      ]
    },
    {
      "cell_type": "markdown",
      "metadata": {
        "id": "TSVSSgwev-Pp"
      },
      "source": [
        "*Dealing with dates by setting index*"
      ]
    },
    {
      "cell_type": "code",
      "execution_count": 7,
      "metadata": {
        "colab": {
          "base_uri": "https://localhost:8080/",
          "height": 179
        },
        "id": "KOzYb89evmrr",
        "outputId": "327c031d-ee8b-4ae0-8683-5b1fa4e1a1d0"
      },
      "outputs": [
        {
          "name": "stdout",
          "output_type": "stream",
          "text": [
            "Columns: Index(['state', 'fips', 'cases', 'deaths'], dtype='object')\n"
          ]
        },
        {
          "data": {
            "text/plain": [
              "DatetimeIndex(['2020-01-21', '2020-01-22', '2020-01-23', '2020-01-24',\n",
              "               '2020-01-24', '2020-01-25', '2020-01-25', '2020-01-25',\n",
              "               '2020-01-26', '2020-01-26',\n",
              "               ...\n",
              "               '2023-03-23', '2023-03-23', '2023-03-23', '2023-03-23',\n",
              "               '2023-03-23', '2023-03-23', '2023-03-23', '2023-03-23',\n",
              "               '2023-03-23', '2023-03-23'],\n",
              "              dtype='datetime64[ns]', name='date', length=61942, freq=None)"
            ]
          },
          "execution_count": 7,
          "metadata": {},
          "output_type": "execute_result"
        }
      ],
      "source": [
        "df = pd.read_csv(\"us-states.csv\")\n",
        "df[\"date\"] = pd.to_datetime(df[\"date\"])\n",
        "df = df.set_index(\"date\")\n",
        "print(f\"Columns: {df.columns}\")\n",
        "df.index"
      ]
    },
    {
      "cell_type": "markdown",
      "metadata": {
        "id": "ULM1KdpWijcS"
      },
      "source": [
        "*Filter results by date range*"
      ]
    },
    {
      "cell_type": "code",
      "execution_count": 11,
      "metadata": {
        "colab": {
          "base_uri": "https://localhost:8080/",
          "height": 53
        },
        "id": "O1ennZNsvlJx",
        "outputId": "32bbc404-d549-4e6e-c578-05fca252fbe0"
      },
      "outputs": [
        {
          "name": "stdout",
          "output_type": "stream",
          "text": [
            "Today 2025-06-02\n",
            "Two days ago 2022-07-28\n"
          ]
        }
      ],
      "source": [
        "from datetime import date, timedelta\n",
        "today = date.today()\n",
        "daybefore = today - timedelta(days = 1040)\n",
        "print(f\"Today {today}\")\n",
        "print(f\"Two days ago {daybefore}\")"
      ]
    },
    {
      "cell_type": "code",
      "execution_count": 12,
      "metadata": {
        "colab": {
          "base_uri": "https://localhost:8080/",
          "height": 233
        },
        "id": "7zuHpxkm1sTA",
        "outputId": "ab87d37c-7186-479d-fc0d-83a69780a66d"
      },
      "outputs": [
        {
          "data": {
            "text/html": [
              "<div>\n",
              "<style scoped>\n",
              "    .dataframe tbody tr th:only-of-type {\n",
              "        vertical-align: middle;\n",
              "    }\n",
              "\n",
              "    .dataframe tbody tr th {\n",
              "        vertical-align: top;\n",
              "    }\n",
              "\n",
              "    .dataframe thead th {\n",
              "        text-align: right;\n",
              "    }\n",
              "</style>\n",
              "<table border=\"1\" class=\"dataframe\">\n",
              "  <thead>\n",
              "    <tr style=\"text-align: right;\">\n",
              "      <th></th>\n",
              "      <th>state</th>\n",
              "      <th>fips</th>\n",
              "      <th>cases</th>\n",
              "      <th>deaths</th>\n",
              "    </tr>\n",
              "    <tr>\n",
              "      <th>date</th>\n",
              "      <th></th>\n",
              "      <th></th>\n",
              "      <th></th>\n",
              "      <th></th>\n",
              "    </tr>\n",
              "  </thead>\n",
              "  <tbody>\n",
              "    <tr>\n",
              "      <th>2022-07-28</th>\n",
              "      <td>Alabama</td>\n",
              "      <td>1</td>\n",
              "      <td>1421760</td>\n",
              "      <td>19890</td>\n",
              "    </tr>\n",
              "    <tr>\n",
              "      <th>2022-07-28</th>\n",
              "      <td>Alaska</td>\n",
              "      <td>2</td>\n",
              "      <td>281969</td>\n",
              "      <td>1270</td>\n",
              "    </tr>\n",
              "    <tr>\n",
              "      <th>2022-07-28</th>\n",
              "      <td>American Samoa</td>\n",
              "      <td>60</td>\n",
              "      <td>7471</td>\n",
              "      <td>33</td>\n",
              "    </tr>\n",
              "    <tr>\n",
              "      <th>2022-07-28</th>\n",
              "      <td>Arizona</td>\n",
              "      <td>4</td>\n",
              "      <td>2196429</td>\n",
              "      <td>30768</td>\n",
              "    </tr>\n",
              "    <tr>\n",
              "      <th>2022-07-28</th>\n",
              "      <td>Arkansas</td>\n",
              "      <td>5</td>\n",
              "      <td>901129</td>\n",
              "      <td>11699</td>\n",
              "    </tr>\n",
              "  </tbody>\n",
              "</table>\n",
              "</div>"
            ],
            "text/plain": [
              "                     state  fips    cases  deaths\n",
              "date                                             \n",
              "2022-07-28         Alabama     1  1421760   19890\n",
              "2022-07-28          Alaska     2   281969    1270\n",
              "2022-07-28  American Samoa    60     7471      33\n",
              "2022-07-28         Arizona     4  2196429   30768\n",
              "2022-07-28        Arkansas     5   901129   11699"
            ]
          },
          "execution_count": 12,
          "metadata": {},
          "output_type": "execute_result"
        }
      ],
      "source": [
        "df.loc[daybefore:today].head()"
      ]
    },
    {
      "cell_type": "markdown",
      "metadata": {
        "id": "Ek_hurrf5FFi"
      },
      "source": [
        "*The distribution of the data by date*"
      ]
    },
    {
      "cell_type": "code",
      "execution_count": 25,
      "metadata": {
        "colab": {
          "base_uri": "https://localhost:8080/",
          "height": 283
        },
        "id": "SHl20wNuiuMw",
        "outputId": "720f5839-d7ac-444f-9f53-f65c598ece8a"
      },
      "outputs": [
        {
          "data": {
            "text/plain": [
              "<Axes: xlabel='deaths', ylabel='Density'>"
            ]
          },
          "execution_count": 25,
          "metadata": {},
          "output_type": "execute_result"
        },
        {
          "data": {
            "image/png": "[encoded data removed]",
            "text/plain": [
              "<Figure size 640x480 with 1 Axes>"
            ]
          },
          "metadata": {},
          "output_type": "display_data"
        }
      ],
      "source": [
        "sns.kdeplot(df.loc[daybefore:today][\"deaths\"], fill=True)"
      ]
    },
    {
      "cell_type": "markdown",
      "metadata": {
        "id": "ehV0NJINmR5S"
      },
      "source": [
        "*Sort DataFrame in place by states with highest deaths and cases and show first 10 results*"
      ]
    },
    {
      "cell_type": "code",
      "execution_count": 14,
      "metadata": {
        "colab": {
          "base_uri": "https://localhost:8080/",
          "height": 387
        },
        "id": "8QcPkd6CnH6q",
        "outputId": "0e30a007-7af4-4adb-e56b-c5e62e0e41e7"
      },
      "outputs": [
        {
          "data": {
            "text/html": [
              "<div>\n",
              "<style scoped>\n",
              "    .dataframe tbody tr th:only-of-type {\n",
              "        vertical-align: middle;\n",
              "    }\n",
              "\n",
              "    .dataframe tbody tr th {\n",
              "        vertical-align: top;\n",
              "    }\n",
              "\n",
              "    .dataframe thead th {\n",
              "        text-align: right;\n",
              "    }\n",
              "</style>\n",
              "<table border=\"1\" class=\"dataframe\">\n",
              "  <thead>\n",
              "    <tr style=\"text-align: right;\">\n",
              "      <th></th>\n",
              "      <th>state</th>\n",
              "      <th>fips</th>\n",
              "      <th>cases</th>\n",
              "      <th>deaths</th>\n",
              "    </tr>\n",
              "    <tr>\n",
              "      <th>date</th>\n",
              "      <th></th>\n",
              "      <th></th>\n",
              "      <th></th>\n",
              "      <th></th>\n",
              "    </tr>\n",
              "  </thead>\n",
              "  <tbody>\n",
              "    <tr>\n",
              "      <th>2023-03-23</th>\n",
              "      <td>California</td>\n",
              "      <td>6</td>\n",
              "      <td>12169158</td>\n",
              "      <td>104277</td>\n",
              "    </tr>\n",
              "    <tr>\n",
              "      <th>2023-03-22</th>\n",
              "      <td>California</td>\n",
              "      <td>6</td>\n",
              "      <td>12155467</td>\n",
              "      <td>104196</td>\n",
              "    </tr>\n",
              "    <tr>\n",
              "      <th>2023-03-21</th>\n",
              "      <td>California</td>\n",
              "      <td>6</td>\n",
              "      <td>12154941</td>\n",
              "      <td>104185</td>\n",
              "    </tr>\n",
              "    <tr>\n",
              "      <th>2023-03-20</th>\n",
              "      <td>California</td>\n",
              "      <td>6</td>\n",
              "      <td>12154293</td>\n",
              "      <td>104165</td>\n",
              "    </tr>\n",
              "    <tr>\n",
              "      <th>2023-03-19</th>\n",
              "      <td>California</td>\n",
              "      <td>6</td>\n",
              "      <td>12153083</td>\n",
              "      <td>104130</td>\n",
              "    </tr>\n",
              "    <tr>\n",
              "      <th>2023-03-17</th>\n",
              "      <td>California</td>\n",
              "      <td>6</td>\n",
              "      <td>12153079</td>\n",
              "      <td>104130</td>\n",
              "    </tr>\n",
              "    <tr>\n",
              "      <th>2023-03-18</th>\n",
              "      <td>California</td>\n",
              "      <td>6</td>\n",
              "      <td>12153079</td>\n",
              "      <td>104130</td>\n",
              "    </tr>\n",
              "    <tr>\n",
              "      <th>2023-03-16</th>\n",
              "      <td>California</td>\n",
              "      <td>6</td>\n",
              "      <td>12152129</td>\n",
              "      <td>104114</td>\n",
              "    </tr>\n",
              "    <tr>\n",
              "      <th>2023-03-15</th>\n",
              "      <td>California</td>\n",
              "      <td>6</td>\n",
              "      <td>12136243</td>\n",
              "      <td>104047</td>\n",
              "    </tr>\n",
              "    <tr>\n",
              "      <th>2023-03-14</th>\n",
              "      <td>California</td>\n",
              "      <td>6</td>\n",
              "      <td>12135588</td>\n",
              "      <td>104038</td>\n",
              "    </tr>\n",
              "  </tbody>\n",
              "</table>\n",
              "</div>"
            ],
            "text/plain": [
              "                 state  fips     cases  deaths\n",
              "date                                          \n",
              "2023-03-23  California     6  12169158  104277\n",
              "2023-03-22  California     6  12155467  104196\n",
              "2023-03-21  California     6  12154941  104185\n",
              "2023-03-20  California     6  12154293  104165\n",
              "2023-03-19  California     6  12153083  104130\n",
              "2023-03-17  California     6  12153079  104130\n",
              "2023-03-18  California     6  12153079  104130\n",
              "2023-03-16  California     6  12152129  104114\n",
              "2023-03-15  California     6  12136243  104047\n",
              "2023-03-14  California     6  12135588  104038"
            ]
          },
          "execution_count": 14,
          "metadata": {},
          "output_type": "execute_result"
        }
      ],
      "source": [
        "current_df = df.loc[daybefore:today].sort_values(by=[\"deaths\", \"cases\"], ascending=False)\n",
        "current_df.head(10)"
      ]
    },
    {
      "cell_type": "markdown",
      "metadata": {
        "id": "OSNzoid28GEX"
      },
      "source": [
        "*There should be 50 states and District of Columbia*"
      ]
    },
    {
      "cell_type": "code",
      "execution_count": 15,
      "metadata": {
        "colab": {
          "base_uri": "https://localhost:8080/",
          "height": 35
        },
        "id": "Ktah9SqV8I3i",
        "outputId": "2b0bb5eb-1186-405a-fb87-0cf89cffe8e0"
      },
      "outputs": [
        {
          "data": {
            "text/plain": [
              "(13384, 4)"
            ]
          },
          "execution_count": 15,
          "metadata": {},
          "output_type": "execute_result"
        }
      ],
      "source": [
        "current_df.shape"
      ]
    },
    {
      "cell_type": "markdown",
      "metadata": {
        "id": "i_M6NGQk8_2U"
      },
      "source": [
        "### State Based Analysis"
      ]
    },
    {
      "cell_type": "markdown",
      "metadata": {
        "id": "xzGQ9z_oA6V7"
      },
      "source": [
        "*Get 10 states and subset*"
      ]
    },
    {
      "cell_type": "code",
      "execution_count": 16,
      "metadata": {
        "colab": {
          "base_uri": "https://localhost:8080/",
          "height": 197
        },
        "id": "PeicLkAlA9y4",
        "outputId": "319ec37e-6652-4684-fb48-1aa7245f0469"
      },
      "outputs": [
        {
          "data": {
            "text/plain": [
              "['California',\n",
              " 'California',\n",
              " 'California',\n",
              " 'California',\n",
              " 'California',\n",
              " 'California',\n",
              " 'California',\n",
              " 'California',\n",
              " 'California',\n",
              " 'California']"
            ]
          },
          "execution_count": 16,
          "metadata": {},
          "output_type": "execute_result"
        }
      ],
      "source": [
        "top_ten_states = list(current_df[\"state\"].head(10).values)\n",
        "top_ten_states"
      ]
    },
    {
      "cell_type": "code",
      "execution_count": 17,
      "metadata": {
        "id": "uzv8KJtx9bFO"
      },
      "outputs": [],
      "source": [
        "top_states_df = df[df['state'].isin(top_ten_states)].drop(columns=\"fips\")"
      ]
    },
    {
      "cell_type": "markdown",
      "metadata": {
        "id": "dkLverBTICn3"
      },
      "source": [
        "*Verify the unique states left is the same 10*"
      ]
    },
    {
      "cell_type": "code",
      "execution_count": 18,
      "metadata": {
        "colab": {
          "base_uri": "https://localhost:8080/",
          "height": 197
        },
        "id": "l3bJzaxyHnD6",
        "outputId": "5f6d40b2-05e2-41b4-9506-a5431c3498c3"
      },
      "outputs": [
        {
          "data": {
            "text/plain": [
              "{'California'}"
            ]
          },
          "execution_count": 18,
          "metadata": {},
          "output_type": "execute_result"
        }
      ],
      "source": [
        "set(top_states_df.state.values)"
      ]
    },
    {
      "cell_type": "code",
      "execution_count": 19,
      "metadata": {
        "colab": {
          "base_uri": "https://localhost:8080/",
          "height": 502
        },
        "id": "9ba-QT229CYE",
        "outputId": "cb08520e-7eba-4cf2-fa0d-7365b30518ff"
      },
      "outputs": [
        {
          "data": {
            "text/plain": [
              "<Figure size 1500x500 with 0 Axes>"
            ]
          },
          "metadata": {},
          "output_type": "display_data"
        },
        {
          "data": {
            "image/png": "[encoded data removed]",
            "text/plain": [
              "<Figure size 1750x350 with 1 Axes>"
            ]
          },
          "metadata": {},
          "output_type": "display_data"
        }
      ],
      "source": [
        "import seaborn as sns\n",
        "import matplotlib.pyplot as plt\n",
        "\n",
        "plt.figure(figsize=(15,5))\n",
        "ax = sns.lmplot(x=\"cases\", y=\"deaths\",\n",
        "                    height=3.5,\n",
        "                    col=\"state\",\n",
        "                    col_wrap=5,\n",
        "                    hue=\"state\",\n",
        "                    palette=\"Set2\",\n",
        "                    data=top_states_df)\n",
        "ax.fig.subplots_adjust(wspace=.2)"
      ]
    },
    {
      "cell_type": "markdown",
      "metadata": {
        "id": "in-JRg0lOCrp"
      },
      "source": [
        "*Interactive plot of top states*"
      ]
    },
    {
      "cell_type": "code",
      "execution_count": 20,
      "metadata": {
        "colab": {
          "base_uri": "https://localhost:8080/",
          "height": 233
        },
        "id": "Vf7j4jUBaKMS",
        "outputId": "1ac26832-4bfe-4f23-cd50-be1d8d873f50"
      },
      "outputs": [
        {
          "data": {
            "text/html": [
              "<div>\n",
              "<style scoped>\n",
              "    .dataframe tbody tr th:only-of-type {\n",
              "        vertical-align: middle;\n",
              "    }\n",
              "\n",
              "    .dataframe tbody tr th {\n",
              "        vertical-align: top;\n",
              "    }\n",
              "\n",
              "    .dataframe thead th {\n",
              "        text-align: right;\n",
              "    }\n",
              "</style>\n",
              "<table border=\"1\" class=\"dataframe\">\n",
              "  <thead>\n",
              "    <tr style=\"text-align: right;\">\n",
              "      <th></th>\n",
              "      <th>state</th>\n",
              "      <th>cases</th>\n",
              "      <th>deaths</th>\n",
              "    </tr>\n",
              "    <tr>\n",
              "      <th>date</th>\n",
              "      <th></th>\n",
              "      <th></th>\n",
              "      <th></th>\n",
              "    </tr>\n",
              "  </thead>\n",
              "  <tbody>\n",
              "    <tr>\n",
              "      <th>2020-03-08</th>\n",
              "      <td>California</td>\n",
              "      <td>112</td>\n",
              "      <td>1</td>\n",
              "    </tr>\n",
              "    <tr>\n",
              "      <th>2020-03-09</th>\n",
              "      <td>California</td>\n",
              "      <td>172</td>\n",
              "      <td>2</td>\n",
              "    </tr>\n",
              "    <tr>\n",
              "      <th>2020-03-10</th>\n",
              "      <td>California</td>\n",
              "      <td>179</td>\n",
              "      <td>3</td>\n",
              "    </tr>\n",
              "    <tr>\n",
              "      <th>2020-03-11</th>\n",
              "      <td>California</td>\n",
              "      <td>202</td>\n",
              "      <td>4</td>\n",
              "    </tr>\n",
              "    <tr>\n",
              "      <th>2020-03-12</th>\n",
              "      <td>California</td>\n",
              "      <td>252</td>\n",
              "      <td>4</td>\n",
              "    </tr>\n",
              "  </tbody>\n",
              "</table>\n",
              "</div>"
            ],
            "text/plain": [
              "                 state  cases  deaths\n",
              "date                                 \n",
              "2020-03-08  California    112       1\n",
              "2020-03-09  California    172       2\n",
              "2020-03-10  California    179       3\n",
              "2020-03-11  California    202       4\n",
              "2020-03-12  California    252       4"
            ]
          },
          "execution_count": 20,
          "metadata": {},
          "output_type": "execute_result"
        }
      ],
      "source": [
        "top_states_march_current_df = top_states_df.loc[\"2020-03-08\":today].sort_values(by=[\"deaths\", \"cases\"], ascending=True)\n",
        "top_states_march_current_df.head()"
      ]
    },
    {
      "cell_type": "code",
      "execution_count": 30,
      "metadata": {
        "colab": {
          "base_uri": "https://localhost:8080/",
          "height": 542
        },
        "id": "D7yg3JizOHIv",
        "outputId": "c61a64f7-d477-4fb5-8a08-f1912449bc01"
      },
      "outputs": [],
      "source": [
        "# import plotly.io as pio\n",
        "# pio.renderers.default = 'colab'\n",
        "# import plotly.express as px\n",
        "# fig = px.scatter(top_states_march_current_df, x=top_states_march_current_df.index, y=\"cases\", size=\"deaths\", color=\"state\", facet_col=\"state\")\n",
        "# fig.show()"
      ]
    },
    {
      "cell_type": "markdown",
      "metadata": {
        "id": "rN0jv8_3mD-z"
      },
      "source": [
        "### Search for Features:  Political, Health and Finance"
      ]
    },
    {
      "cell_type": "markdown",
      "metadata": {
        "id": "4VLRtEYvBtoR"
      },
      "source": [
        "*Sugar Intake By State*"
      ]
    },
    {
      "cell_type": "code",
      "execution_count": 23,
      "metadata": {
        "colab": {
          "base_uri": "https://localhost:8080/",
          "height": 202
        },
        "id": "nnLcHUUUBwzD",
        "outputId": "0351e944-96b5-4ac5-cd76-81fb2752fbdb"
      },
      "outputs": [],
      "source": [
        "# cdc_2013 = pd.read_csv(\"education_sugar_cdc_2003.csv\")\n",
        "# cdc_2013.set_index(\"State\", inplace=True)\n",
        "# for column in cdc_2013.columns:\n",
        "#   cdc_2013[column]=cdc_2013[column].str.replace(r\"\\(.*\\)\",\"\")\n",
        "#   cdc_2013[column]=pd.to_numeric(cdc_2013[column])\n",
        "\n",
        "# cdc_2013.reset_index(inplace=True)\n",
        "# cdc_2013.rename(columns={\"State\": \"state\", \"Employed\": \"employed-sugar-intake-daily\"},inplace=True)\n",
        "# cdc_2013.head()"
      ]
    },
    {
      "cell_type": "markdown",
      "metadata": {
        "id": "BT7YQzUcCRSn"
      },
      "source": [
        "*Combine Sugar Data and Covid-19 Data*"
      ]
    },
    {
      "cell_type": "code",
      "execution_count": 24,
      "metadata": {
        "colab": {
          "base_uri": "https://localhost:8080/",
          "height": 202
        },
        "id": "mxZ76ZI8EDQ2",
        "outputId": "0f04c9ce-bae4-43eb-c1a6-b3aef97e4bd1"
      },
      "outputs": [],
      "source": [
        "# cdc_employed_df = cdc_2013[[\"employed-sugar-intake-daily\", \"state\"]]\n",
        "# sugar_covid_df = df.merge(cdc_employed_df, how=\"inner\", on=\"state\")\n",
        "# sugar_covid_df.head()"
      ]
    },
    {
      "cell_type": "markdown",
      "metadata": {
        "id": "9syyMOxhTHMo"
      },
      "source": [
        "*What about data from the 2016 Election?*"
      ]
    },
    {
      "cell_type": "code",
      "execution_count": 26,
      "metadata": {
        "colab": {
          "base_uri": "https://localhost:8080/",
          "height": 202
        },
        "id": "2RZa-tDmTPXP",
        "outputId": "e06bc642-feb3-480b-a3b4-0704e2ae8b03"
      },
      "outputs": [],
      "source": [
        "# election_df = pd.read_csv(\"2016-Electoral-Votes.csv\")\n",
        "# election_df.rename(columns={\"State\": \"state\"},inplace=True)\n",
        "# election_df.drop(columns=\"Votes\", inplace=True)\n",
        "# election_df = pd.concat([election_df, pd.get_dummies(election_df[\"Winning Party\"])], axis=1);\n",
        "# election_df.head()\n",
        "# #election_df[\"Republican?\"] = pd.get_dummies(election_df, columns=[\"Winning Party\"])\n",
        "# #election_df.head()"
      ]
    },
    {
      "cell_type": "code",
      "execution_count": 27,
      "metadata": {
        "colab": {
          "base_uri": "https://localhost:8080/",
          "height": 202
        },
        "id": "c6CuViW_V2Hx",
        "outputId": "76ec7320-9f60-495c-9f7a-cce61c8e2d59"
      },
      "outputs": [],
      "source": [
        "# sugar_covid_df = sugar_covid_df.merge(election_df, how=\"inner\", on=\"state\")\n",
        "# sugar_covid_df.head()"
      ]
    },
    {
      "cell_type": "markdown",
      "metadata": {
        "id": "RmBJqPnXE5wR"
      },
      "source": [
        "*Generate Heatmap*"
      ]
    },
    {
      "cell_type": "code",
      "execution_count": 28,
      "metadata": {
        "colab": {
          "base_uri": "https://localhost:8080/",
          "height": 233
        },
        "id": "cee_tCSBGdEM",
        "outputId": "f74e0e33-66cb-4051-c208-699aa539517b"
      },
      "outputs": [],
      "source": [
        "# sugar_covid_df.corr()"
      ]
    },
    {
      "cell_type": "code",
      "execution_count": 29,
      "metadata": {
        "colab": {
          "base_uri": "https://localhost:8080/",
          "height": 542
        },
        "id": "u6wVCIMIE74B",
        "outputId": "737a17b3-9160-40be-efd6-80ed03c9b12b"
      },
      "outputs": [],
      "source": [
        "# import plotly.graph_objects as go\n",
        "\n",
        "# fig = go.Figure(data=go.Heatmap(\n",
        "#                    z=sugar_covid_df.corr(),\n",
        "#                    x=['fips','cases', 'deaths', 'employed-sugar-intake-daily', 'Democrats', 'Republicans'],\n",
        "#                    y=['fips','cases', 'deaths', 'employed-sugar-intake-daily', 'Democrats', 'Republicans'],\n",
        "#                    hoverongaps = False))\n",
        "# fig.show()"
      ]
    },
    {
      "cell_type": "code",
      "execution_count": null,
      "metadata": {
        "id": "ZFaYmi8fBE6_"
      },
      "outputs": [],
      "source": [
        "# sugar_covid_df.to_csv(\"covid-eda.csv\")"
      ]
    },
    {
      "cell_type": "markdown",
      "metadata": {
        "id": "lLqU5s5pH8PB"
      },
      "source": [
        "*What about Real-Estate Data?*"
      ]
    },
    {
      "cell_type": "markdown",
      "metadata": {
        "id": "M4W9aBagTHFC"
      },
      "source": []
    },
    {
      "cell_type": "markdown",
      "metadata": {
        "id": "IrRjhxe30C_q"
      },
      "source": [
        "## Modeling"
      ]
    },
    {
      "cell_type": "markdown",
      "metadata": {
        "id": "sdsYYSuy0Exu"
      },
      "source": []
    },
    {
      "cell_type": "markdown",
      "metadata": {
        "id": "ZFOuQGyn0E6w"
      },
      "source": [
        "## Conclusion\n"
      ]
    },
    {
      "cell_type": "markdown",
      "metadata": {
        "id": "cmcf2OJ40mm4"
      },
      "source": []
    }
  ],
  "metadata": {
    "colab": {
      "machine_shape": "hm",
      "name": "Chapter7-data-science.ipynb",
      "provenance": []
    },
    "kernelspec": {
      "display_name": "Python 3",
      "name": "python3"
    },
    "language_info": {
      "codemirror_mode": {
        "name": "ipython",
        "version": 3
      },
      "file_extension": ".py",
      "mimetype": "text/x-python",
      "name": "python",
      "nbconvert_exporter": "python",
      "pygments_lexer": "ipython3",
      "version": "3.12.1"
    }
  },
  "nbformat": 4,
  "nbformat_minor": 0
}
