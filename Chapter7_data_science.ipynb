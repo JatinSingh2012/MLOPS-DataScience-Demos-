{
<<<<<<< HEAD
=======
  "nbformat": 4,
  "nbformat_minor": 0,
  "metadata": {
    "colab": {
      "name": "Chapter7-data-science.ipynb",
      "provenance": [],
      "machine_shape": "hm"
    },
    "kernelspec": {
      "name": "python3",
      "display_name": "Python 3"
    }
  },
>>>>>>> 6732020aa24fa62b4c396bbb8c7bf5f85786e657
  "cells": [
    {
      "cell_type": "markdown",
      "metadata": {
        "id": "ahIRZj6K-3-o"
      },
      "source": [
        "# Chapter 7:  Data Science"
      ]
    },
    {
      "cell_type": "markdown",
      "metadata": {
        "id": "Hc7QdhV05VUF"
      },
<<<<<<< HEAD
      "source": []
=======
      "source": [
      ]
>>>>>>> 6732020aa24fa62b4c396bbb8c7bf5f85786e657
    },
    {
      "cell_type": "markdown",
      "metadata": {
        "id": "NS0R02LQwG_2"
      },
      "source": [
        "## Ingest"
      ]
    },
    {
      "cell_type": "markdown",
      "metadata": {
        "id": "NJntteRBwI46"
      },
      "source": [
        "*COVID-19 Data from [New York Times Github](https://github.com/nytimes/covid-19-data)*"
      ]
    },
    {
      "cell_type": "code",
<<<<<<< HEAD
      "execution_count": 1,
      "metadata": {
        "colab": {
          "base_uri": "https://localhost:8080/",
          "height": 202
        },
        "id": "1ABhk0OLwejq",
        "outputId": "985ccf95-9dfc-40fe-8281-6484b9bc3377"
      },
      "outputs": [
        {
=======
      "metadata": {
        "id": "1ABhk0OLwejq",
        "outputId": "985ccf95-9dfc-40fe-8281-6484b9bc3377",
        "colab": {
          "base_uri": "https://localhost:8080/",
          "height": 202
        }
      },
      "source": [
        "import pandas as pd\n",
        "df = pd.read_csv(\"https://raw.githubusercontent.com/nytimes/covid-19-data/master/us-states.csv\")\n",
        "df.head()"
      ],
      "execution_count": null,
      "outputs": [
        {
          "output_type": "execute_result",
>>>>>>> 6732020aa24fa62b4c396bbb8c7bf5f85786e657
          "data": {
            "text/html": [
              "<div>\n",
              "<style scoped>\n",
              "    .dataframe tbody tr th:only-of-type {\n",
              "        vertical-align: middle;\n",
              "    }\n",
              "\n",
              "    .dataframe tbody tr th {\n",
              "        vertical-align: top;\n",
              "    }\n",
              "\n",
              "    .dataframe thead th {\n",
              "        text-align: right;\n",
              "    }\n",
              "</style>\n",
              "<table border=\"1\" class=\"dataframe\">\n",
              "  <thead>\n",
              "    <tr style=\"text-align: right;\">\n",
              "      <th></th>\n",
              "      <th>date</th>\n",
              "      <th>state</th>\n",
              "      <th>fips</th>\n",
              "      <th>cases</th>\n",
              "      <th>deaths</th>\n",
              "    </tr>\n",
              "  </thead>\n",
              "  <tbody>\n",
              "    <tr>\n",
              "      <th>0</th>\n",
              "      <td>2020-01-21</td>\n",
              "      <td>Washington</td>\n",
              "      <td>53</td>\n",
              "      <td>1</td>\n",
              "      <td>0</td>\n",
              "    </tr>\n",
              "    <tr>\n",
              "      <th>1</th>\n",
              "      <td>2020-01-22</td>\n",
              "      <td>Washington</td>\n",
              "      <td>53</td>\n",
              "      <td>1</td>\n",
              "      <td>0</td>\n",
              "    </tr>\n",
              "    <tr>\n",
              "      <th>2</th>\n",
              "      <td>2020-01-23</td>\n",
              "      <td>Washington</td>\n",
              "      <td>53</td>\n",
              "      <td>1</td>\n",
              "      <td>0</td>\n",
              "    </tr>\n",
              "    <tr>\n",
              "      <th>3</th>\n",
              "      <td>2020-01-24</td>\n",
              "      <td>Illinois</td>\n",
              "      <td>17</td>\n",
              "      <td>1</td>\n",
              "      <td>0</td>\n",
              "    </tr>\n",
              "    <tr>\n",
              "      <th>4</th>\n",
              "      <td>2020-01-24</td>\n",
              "      <td>Washington</td>\n",
              "      <td>53</td>\n",
              "      <td>1</td>\n",
              "      <td>0</td>\n",
              "    </tr>\n",
              "  </tbody>\n",
              "</table>\n",
              "</div>"
            ],
            "text/plain": [
              "         date       state  fips  cases  deaths\n",
              "0  2020-01-21  Washington    53      1       0\n",
              "1  2020-01-22  Washington    53      1       0\n",
              "2  2020-01-23  Washington    53      1       0\n",
              "3  2020-01-24    Illinois    17      1       0\n",
              "4  2020-01-24  Washington    53      1       0"
            ]
          },
<<<<<<< HEAD
          "execution_count": 1,
          "metadata": {},
          "output_type": "execute_result"
        }
      ],
      "source": [
        "import pandas as pd\n",
        "df = pd.read_csv(\"us-states.csv\")\n",
        "df.head()"
=======
          "metadata": {
            "tags": []
          },
          "execution_count": 29
        }
>>>>>>> 6732020aa24fa62b4c396bbb8c7bf5f85786e657
      ]
    },
    {
      "cell_type": "markdown",
      "metadata": {
        "id": "1iMW3XxnkUXF"
      },
      "source": [
        "Last five rows"
      ]
    },
    {
      "cell_type": "code",
<<<<<<< HEAD
      "execution_count": 2,
      "metadata": {
        "colab": {
          "base_uri": "https://localhost:8080/",
          "height": 202
        },
        "id": "opOpFijSkXR6",
        "outputId": "8425ed2f-b1b0-4516-a217-0f4efdf30d2a"
      },
      "outputs": [
        {
=======
      "metadata": {
        "id": "opOpFijSkXR6",
        "outputId": "8425ed2f-b1b0-4516-a217-0f4efdf30d2a",
        "colab": {
          "base_uri": "https://localhost:8080/",
          "height": 202
        }
      },
      "source": [
        "df.tail()"
      ],
      "execution_count": null,
      "outputs": [
        {
          "output_type": "execute_result",
>>>>>>> 6732020aa24fa62b4c396bbb8c7bf5f85786e657
          "data": {
            "text/html": [
              "<div>\n",
              "<style scoped>\n",
              "    .dataframe tbody tr th:only-of-type {\n",
              "        vertical-align: middle;\n",
              "    }\n",
              "\n",
              "    .dataframe tbody tr th {\n",
              "        vertical-align: top;\n",
              "    }\n",
              "\n",
              "    .dataframe thead th {\n",
              "        text-align: right;\n",
              "    }\n",
              "</style>\n",
              "<table border=\"1\" class=\"dataframe\">\n",
              "  <thead>\n",
              "    <tr style=\"text-align: right;\">\n",
              "      <th></th>\n",
              "      <th>date</th>\n",
              "      <th>state</th>\n",
              "      <th>fips</th>\n",
              "      <th>cases</th>\n",
              "      <th>deaths</th>\n",
              "    </tr>\n",
              "  </thead>\n",
              "  <tbody>\n",
              "    <tr>\n",
<<<<<<< HEAD
              "      <th>61937</th>\n",
              "      <td>2023-03-23</td>\n",
              "      <td>Virginia</td>\n",
              "      <td>51</td>\n",
              "      <td>2298300</td>\n",
              "      <td>23782</td>\n",
              "    </tr>\n",
              "    <tr>\n",
              "      <th>61938</th>\n",
              "      <td>2023-03-23</td>\n",
              "      <td>Washington</td>\n",
              "      <td>53</td>\n",
              "      <td>1940704</td>\n",
              "      <td>15905</td>\n",
              "    </tr>\n",
              "    <tr>\n",
              "      <th>61939</th>\n",
              "      <td>2023-03-23</td>\n",
              "      <td>West Virginia</td>\n",
              "      <td>54</td>\n",
              "      <td>645710</td>\n",
              "      <td>8132</td>\n",
              "    </tr>\n",
              "    <tr>\n",
              "      <th>61940</th>\n",
              "      <td>2023-03-23</td>\n",
              "      <td>Wisconsin</td>\n",
              "      <td>55</td>\n",
              "      <td>2014524</td>\n",
              "      <td>16485</td>\n",
              "    </tr>\n",
              "    <tr>\n",
              "      <th>61941</th>\n",
              "      <td>2023-03-23</td>\n",
              "      <td>Wyoming</td>\n",
              "      <td>56</td>\n",
              "      <td>185800</td>\n",
              "      <td>2014</td>\n",
=======
              "      <th>1934</th>\n",
              "      <td>2020-04-06</td>\n",
              "      <td>Virginia</td>\n",
              "      <td>51</td>\n",
              "      <td>2878</td>\n",
              "      <td>54</td>\n",
              "    </tr>\n",
              "    <tr>\n",
              "      <th>1935</th>\n",
              "      <td>2020-04-06</td>\n",
              "      <td>Washington</td>\n",
              "      <td>53</td>\n",
              "      <td>8384</td>\n",
              "      <td>383</td>\n",
              "    </tr>\n",
              "    <tr>\n",
              "      <th>1936</th>\n",
              "      <td>2020-04-06</td>\n",
              "      <td>West Virginia</td>\n",
              "      <td>54</td>\n",
              "      <td>345</td>\n",
              "      <td>4</td>\n",
              "    </tr>\n",
              "    <tr>\n",
              "      <th>1937</th>\n",
              "      <td>2020-04-06</td>\n",
              "      <td>Wisconsin</td>\n",
              "      <td>55</td>\n",
              "      <td>2440</td>\n",
              "      <td>83</td>\n",
              "    </tr>\n",
              "    <tr>\n",
              "      <th>1938</th>\n",
              "      <td>2020-04-06</td>\n",
              "      <td>Wyoming</td>\n",
              "      <td>56</td>\n",
              "      <td>212</td>\n",
              "      <td>0</td>\n",
>>>>>>> 6732020aa24fa62b4c396bbb8c7bf5f85786e657
              "    </tr>\n",
              "  </tbody>\n",
              "</table>\n",
              "</div>"
            ],
            "text/plain": [
<<<<<<< HEAD
              "             date          state  fips    cases  deaths\n",
              "61937  2023-03-23       Virginia    51  2298300   23782\n",
              "61938  2023-03-23     Washington    53  1940704   15905\n",
              "61939  2023-03-23  West Virginia    54   645710    8132\n",
              "61940  2023-03-23      Wisconsin    55  2014524   16485\n",
              "61941  2023-03-23        Wyoming    56   185800    2014"
            ]
          },
          "execution_count": 2,
          "metadata": {},
          "output_type": "execute_result"
        }
      ],
      "source": [
        "df.tail()"
=======
              "            date          state  fips  cases  deaths\n",
              "1934  2020-04-06       Virginia    51   2878      54\n",
              "1935  2020-04-06     Washington    53   8384     383\n",
              "1936  2020-04-06  West Virginia    54    345       4\n",
              "1937  2020-04-06      Wisconsin    55   2440      83\n",
              "1938  2020-04-06        Wyoming    56    212       0"
            ]
          },
          "metadata": {
            "tags": []
          },
          "execution_count": 30
        }
>>>>>>> 6732020aa24fa62b4c396bbb8c7bf5f85786e657
      ]
    },
    {
      "cell_type": "markdown",
      "metadata": {
        "id": "zr7wdjHswKfq"
      },
      "source": [
        "*What are the columns?*"
      ]
    },
    {
      "cell_type": "code",
<<<<<<< HEAD
      "execution_count": 3,
      "metadata": {
        "colab": {
          "base_uri": "https://localhost:8080/",
          "height": 35
        },
        "id": "DwAMxSNSwNWj",
        "outputId": "ebd41475-85cc-4166-de5c-5595b0d0e222"
      },
      "outputs": [
        {
=======
      "metadata": {
        "id": "DwAMxSNSwNWj",
        "outputId": "ebd41475-85cc-4166-de5c-5595b0d0e222",
        "colab": {
          "base_uri": "https://localhost:8080/",
          "height": 35
        }
      },
      "source": [
        "df.columns"
      ],
      "execution_count": null,
      "outputs": [
        {
          "output_type": "execute_result",
>>>>>>> 6732020aa24fa62b4c396bbb8c7bf5f85786e657
          "data": {
            "text/plain": [
              "Index(['date', 'state', 'fips', 'cases', 'deaths'], dtype='object')"
            ]
          },
<<<<<<< HEAD
          "execution_count": 3,
          "metadata": {},
          "output_type": "execute_result"
        }
      ],
      "source": [
        "df.columns"
=======
          "metadata": {
            "tags": []
          },
          "execution_count": 3
        }
>>>>>>> 6732020aa24fa62b4c396bbb8c7bf5f85786e657
      ]
    },
    {
      "cell_type": "markdown",
      "metadata": {
        "id": "Q3njEtIJwSCi"
      },
      "source": [
        "*What is the shape:  i.e. rows,columns?*"
      ]
    },
    {
      "cell_type": "code",
<<<<<<< HEAD
      "execution_count": 4,
      "metadata": {
        "colab": {
          "base_uri": "https://localhost:8080/",
          "height": 35
        },
        "id": "kyCznu1cwUv_",
        "outputId": "fb5ea532-c126-4225-ba7e-ca71249245ba"
      },
      "outputs": [
        {
          "data": {
            "text/plain": [
              "(61942, 5)"
            ]
          },
          "execution_count": 4,
          "metadata": {},
          "output_type": "execute_result"
        }
      ],
      "source": [
        "df.shape"
=======
      "metadata": {
        "id": "kyCznu1cwUv_",
        "outputId": "fb5ea532-c126-4225-ba7e-ca71249245ba",
        "colab": {
          "base_uri": "https://localhost:8080/",
          "height": 35
        }
      },
      "source": [
        "df.shape"
      ],
      "execution_count": null,
      "outputs": [
        {
          "output_type": "execute_result",
          "data": {
            "text/plain": [
              "(1939, 5)"
            ]
          },
          "metadata": {
            "tags": []
          },
          "execution_count": 31
        }
>>>>>>> 6732020aa24fa62b4c396bbb8c7bf5f85786e657
      ]
    },
    {
      "cell_type": "markdown",
      "metadata": {
        "id": "PY_nFEZKwI7R"
      },
      "source": [
        "## EDA"
      ]
    },
    {
      "cell_type": "markdown",
      "metadata": {
        "id": "nNw9of3LiQjU"
      },
      "source": [
        "*What are general characteristics of the data?  A good way to find out is `df.describe`*"
      ]
    },
    {
      "cell_type": "code",
<<<<<<< HEAD
      "execution_count": 5,
      "metadata": {
        "colab": {
          "base_uri": "https://localhost:8080/",
          "height": 295
        },
        "id": "IHuBZouXCYAZ",
        "outputId": "8e4826ed-e1d1-46c0-da39-86188dffc763"
      },
      "outputs": [
        {
=======
      "metadata": {
        "id": "IHuBZouXCYAZ",
        "outputId": "8e4826ed-e1d1-46c0-da39-86188dffc763",
        "colab": {
          "base_uri": "https://localhost:8080/",
          "height": 295
        }
      },
      "source": [
        "df.describe()"
      ],
      "execution_count": null,
      "outputs": [
        {
          "output_type": "execute_result",
>>>>>>> 6732020aa24fa62b4c396bbb8c7bf5f85786e657
          "data": {
            "text/html": [
              "<div>\n",
              "<style scoped>\n",
              "    .dataframe tbody tr th:only-of-type {\n",
              "        vertical-align: middle;\n",
              "    }\n",
              "\n",
              "    .dataframe tbody tr th {\n",
              "        vertical-align: top;\n",
              "    }\n",
              "\n",
              "    .dataframe thead th {\n",
              "        text-align: right;\n",
              "    }\n",
              "</style>\n",
              "<table border=\"1\" class=\"dataframe\">\n",
              "  <thead>\n",
              "    <tr style=\"text-align: right;\">\n",
              "      <th></th>\n",
              "      <th>fips</th>\n",
              "      <th>cases</th>\n",
              "      <th>deaths</th>\n",
              "    </tr>\n",
              "  </thead>\n",
              "  <tbody>\n",
              "    <tr>\n",
              "      <th>count</th>\n",
<<<<<<< HEAD
              "      <td>61942.000000</td>\n",
              "      <td>6.194200e+04</td>\n",
              "      <td>61942.000000</td>\n",
              "    </tr>\n",
              "    <tr>\n",
              "      <th>mean</th>\n",
              "      <td>32.247958</td>\n",
              "      <td>8.898301e+05</td>\n",
              "      <td>11779.067499</td>\n",
              "    </tr>\n",
              "    <tr>\n",
              "      <th>std</th>\n",
              "      <td>18.788383</td>\n",
              "      <td>1.470231e+06</td>\n",
              "      <td>17345.774849</td>\n",
=======
              "      <td>1939.000000</td>\n",
              "      <td>1939.000000</td>\n",
              "      <td>1939.000000</td>\n",
              "    </tr>\n",
              "    <tr>\n",
              "      <th>mean</th>\n",
              "      <td>30.892728</td>\n",
              "      <td>1467.224342</td>\n",
              "      <td>34.104177</td>\n",
              "    </tr>\n",
              "    <tr>\n",
              "      <th>std</th>\n",
              "      <td>18.062123</td>\n",
              "      <td>7403.847224</td>\n",
              "      <td>210.798255</td>\n",
>>>>>>> 6732020aa24fa62b4c396bbb8c7bf5f85786e657
              "    </tr>\n",
              "    <tr>\n",
              "      <th>min</th>\n",
              "      <td>1.000000</td>\n",
<<<<<<< HEAD
              "      <td>1.000000e+00</td>\n",
=======
              "      <td>1.000000</td>\n",
>>>>>>> 6732020aa24fa62b4c396bbb8c7bf5f85786e657
              "      <td>0.000000</td>\n",
              "    </tr>\n",
              "    <tr>\n",
              "      <th>25%</th>\n",
              "      <td>17.000000</td>\n",
<<<<<<< HEAD
              "      <td>7.078350e+04</td>\n",
              "      <td>1171.000000</td>\n",
              "    </tr>\n",
              "    <tr>\n",
              "      <th>50%</th>\n",
              "      <td>31.000000</td>\n",
              "      <td>3.514960e+05</td>\n",
              "      <td>5035.000000</td>\n",
=======
              "      <td>7.000000</td>\n",
              "      <td>0.000000</td>\n",
              "    </tr>\n",
              "    <tr>\n",
              "      <th>50%</th>\n",
              "      <td>30.000000</td>\n",
              "      <td>75.000000</td>\n",
              "      <td>1.000000</td>\n",
>>>>>>> 6732020aa24fa62b4c396bbb8c7bf5f85786e657
              "    </tr>\n",
              "    <tr>\n",
              "      <th>75%</th>\n",
              "      <td>46.000000</td>\n",
<<<<<<< HEAD
              "      <td>1.043231e+06</td>\n",
              "      <td>14912.000000</td>\n",
=======
              "      <td>565.000000</td>\n",
              "      <td>10.000000</td>\n",
>>>>>>> 6732020aa24fa62b4c396bbb8c7bf5f85786e657
              "    </tr>\n",
              "    <tr>\n",
              "      <th>max</th>\n",
              "      <td>78.000000</td>\n",
<<<<<<< HEAD
              "      <td>1.216916e+07</td>\n",
              "      <td>104277.000000</td>\n",
=======
              "      <td>130703.000000</td>\n",
              "      <td>4758.000000</td>\n",
>>>>>>> 6732020aa24fa62b4c396bbb8c7bf5f85786e657
              "    </tr>\n",
              "  </tbody>\n",
              "</table>\n",
              "</div>"
            ],
            "text/plain": [
<<<<<<< HEAD
              "               fips         cases         deaths\n",
              "count  61942.000000  6.194200e+04   61942.000000\n",
              "mean      32.247958  8.898301e+05   11779.067499\n",
              "std       18.788383  1.470231e+06   17345.774849\n",
              "min        1.000000  1.000000e+00       0.000000\n",
              "25%       17.000000  7.078350e+04    1171.000000\n",
              "50%       31.000000  3.514960e+05    5035.000000\n",
              "75%       46.000000  1.043231e+06   14912.000000\n",
              "max       78.000000  1.216916e+07  104277.000000"
            ]
          },
          "execution_count": 5,
          "metadata": {},
          "output_type": "execute_result"
        }
      ],
      "source": [
        "df.describe()"
=======
              "              fips          cases       deaths\n",
              "count  1939.000000    1939.000000  1939.000000\n",
              "mean     30.892728    1467.224342    34.104177\n",
              "std      18.062123    7403.847224   210.798255\n",
              "min       1.000000       1.000000     0.000000\n",
              "25%      17.000000       7.000000     0.000000\n",
              "50%      30.000000      75.000000     1.000000\n",
              "75%      46.000000     565.000000    10.000000\n",
              "max      78.000000  130703.000000  4758.000000"
            ]
          },
          "metadata": {
            "tags": []
          },
          "execution_count": 32
        }
>>>>>>> 6732020aa24fa62b4c396bbb8c7bf5f85786e657
      ]
    },
    {
      "cell_type": "markdown",
      "metadata": {
        "id": "3YtAIL7HFjOw"
      },
      "source": [
        "*Cases and Deaths in the USA due to Covid-19*"
      ]
    },
    {
      "cell_type": "code",
<<<<<<< HEAD
      "execution_count": 6,
      "metadata": {
        "colab": {
          "base_uri": "https://localhost:8080/",
          "height": 297
        },
        "id": "C9vXU4_fCj-8",
        "outputId": "eb684f08-960c-4847-a492-150e26343549"
      },
      "outputs": [
        {
          "data": {
            "text/plain": [
              "<Axes: xlabel='cases', ylabel='deaths'>"
            ]
          },
          "execution_count": 6,
          "metadata": {},
          "output_type": "execute_result"
        },
        {
          "data": {
            "image/png": "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",
            "text/plain": [
              "<Figure size 640x480 with 1 Axes>"
            ]
          },
          "metadata": {},
          "output_type": "display_data"
        }
      ],
=======
      "metadata": {
        "id": "C9vXU4_fCj-8",
        "outputId": "eb684f08-960c-4847-a492-150e26343549",
        "colab": {
          "base_uri": "https://localhost:8080/",
          "height": 297
        }
      },
>>>>>>> 6732020aa24fa62b4c396bbb8c7bf5f85786e657
      "source": [
        "import seaborn as sns\n",
        "sns.scatterplot(x=\"cases\", y=\"deaths\",\n",
        "                hue=\"deaths\",size=\"deaths\", data=df)"
<<<<<<< HEAD
=======
      ],
      "execution_count": null,
      "outputs": [
        {
          "output_type": "execute_result",
          "data": {
            "text/plain": [
              "<matplotlib.axes._subplots.AxesSubplot at 0x7fdedc88c630>"
            ]
          },
          "metadata": {
            "tags": []
          },
          "execution_count": 33
        },
        {
          "output_type": "display_data",
          "data": {
            "image/png": "iVBORw0KGgoAAAANSUhEUgAAAYsAAAEGCAYAAACUzrmNAAAABHNCSVQICAgIfAhkiAAAAAlwSFlz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\nTkSuQmCC\n",
            "text/plain": [
              "<Figure size 432x288 with 1 Axes>"
            ]
          },
          "metadata": {
            "tags": []
          }
        }
>>>>>>> 6732020aa24fa62b4c396bbb8c7bf5f85786e657
      ]
    },
    {
      "cell_type": "markdown",
      "metadata": {
        "id": "O_pRge294dFK"
      },
      "source": [
        "### Date-based EDA"
      ]
    },
    {
      "cell_type": "markdown",
      "metadata": {
        "id": "TSVSSgwev-Pp"
      },
      "source": [
        "*Dealing with dates by setting index*"
      ]
    },
    {
      "cell_type": "code",
<<<<<<< HEAD
      "execution_count": 7,
      "metadata": {
        "colab": {
          "base_uri": "https://localhost:8080/",
          "height": 179
        },
        "id": "KOzYb89evmrr",
        "outputId": "327c031d-ee8b-4ae0-8683-5b1fa4e1a1d0"
      },
      "outputs": [
        {
          "name": "stdout",
          "output_type": "stream",
          "text": [
            "Columns: Index(['state', 'fips', 'cases', 'deaths'], dtype='object')\n"
          ]
        },
        {
=======
      "metadata": {
        "id": "KOzYb89evmrr",
        "outputId": "327c031d-ee8b-4ae0-8683-5b1fa4e1a1d0",
        "colab": {
          "base_uri": "https://localhost:8080/",
          "height": 179
        }
      },
      "source": [
        "df = pd.read_csv(\"https://raw.githubusercontent.com/nytimes/covid-19-data/master/us-states.csv\")\n",
        "df[\"date\"] = pd.to_datetime(df[\"date\"])\n",
        "df = df.set_index(\"date\")\n",
        "print(f\"Columns: {df.columns}\")\n",
        "df.index"
      ],
      "execution_count": null,
      "outputs": [
        {
          "output_type": "stream",
          "text": [
            "Columns: Index(['state', 'fips', 'cases', 'deaths'], dtype='object')\n"
          ],
          "name": "stdout"
        },
        {
          "output_type": "execute_result",
>>>>>>> 6732020aa24fa62b4c396bbb8c7bf5f85786e657
          "data": {
            "text/plain": [
              "DatetimeIndex(['2020-01-21', '2020-01-22', '2020-01-23', '2020-01-24',\n",
              "               '2020-01-24', '2020-01-25', '2020-01-25', '2020-01-25',\n",
              "               '2020-01-26', '2020-01-26',\n",
              "               ...\n",
<<<<<<< HEAD
              "               '2023-03-23', '2023-03-23', '2023-03-23', '2023-03-23',\n",
              "               '2023-03-23', '2023-03-23', '2023-03-23', '2023-03-23',\n",
              "               '2023-03-23', '2023-03-23'],\n",
              "              dtype='datetime64[ns]', name='date', length=61942, freq=None)"
            ]
          },
          "execution_count": 7,
          "metadata": {},
          "output_type": "execute_result"
        }
      ],
      "source": [
        "df = pd.read_csv(\"us-states.csv\")\n",
        "df[\"date\"] = pd.to_datetime(df[\"date\"])\n",
        "df = df.set_index(\"date\")\n",
        "print(f\"Columns: {df.columns}\")\n",
        "df.index"
=======
              "               '2020-04-06', '2020-04-06', '2020-04-06', '2020-04-06',\n",
              "               '2020-04-06', '2020-04-06', '2020-04-06', '2020-04-06',\n",
              "               '2020-04-06', '2020-04-06'],\n",
              "              dtype='datetime64[ns]', name='date', length=1939, freq=None)"
            ]
          },
          "metadata": {
            "tags": []
          },
          "execution_count": 34
        }
>>>>>>> 6732020aa24fa62b4c396bbb8c7bf5f85786e657
      ]
    },
    {
      "cell_type": "markdown",
      "metadata": {
        "id": "ULM1KdpWijcS"
      },
      "source": [
        "*Filter results by date range*"
      ]
    },
    {
      "cell_type": "code",
<<<<<<< HEAD
      "execution_count": 11,
      "metadata": {
        "colab": {
          "base_uri": "https://localhost:8080/",
          "height": 53
        },
        "id": "O1ennZNsvlJx",
        "outputId": "32bbc404-d549-4e6e-c578-05fca252fbe0"
      },
      "outputs": [
        {
          "name": "stdout",
          "output_type": "stream",
          "text": [
            "Today 2025-06-02\n",
            "Two days ago 2022-07-28\n"
          ]
        }
      ],
      "source": [
        "from datetime import date, timedelta\n",
        "today = date.today()\n",
        "daybefore = today - timedelta(days = 1040)\n",
        "print(f\"Today {today}\")\n",
        "print(f\"Two days ago {daybefore}\")"
=======
      "metadata": {
        "id": "O1ennZNsvlJx",
        "outputId": "32bbc404-d549-4e6e-c578-05fca252fbe0",
        "colab": {
          "base_uri": "https://localhost:8080/",
          "height": 53
        }
      },
      "source": [
        "from datetime import date, timedelta\n",
        "today = date.today()\n",
        "daybefore = today - timedelta(days = 2)\n",
        "print(f\"Today {today}\")\n",
        "print(f\"Two days ago {daybefore}\")"
      ],
      "execution_count": null,
      "outputs": [
        {
          "output_type": "stream",
          "text": [
            "Today 2020-04-08\n",
            "Two days ago 2020-04-06\n"
          ],
          "name": "stdout"
        }
>>>>>>> 6732020aa24fa62b4c396bbb8c7bf5f85786e657
      ]
    },
    {
      "cell_type": "code",
<<<<<<< HEAD
      "execution_count": 12,
      "metadata": {
        "colab": {
          "base_uri": "https://localhost:8080/",
          "height": 233
        },
        "id": "7zuHpxkm1sTA",
        "outputId": "ab87d37c-7186-479d-fc0d-83a69780a66d"
      },
      "outputs": [
        {
=======
      "metadata": {
        "id": "7zuHpxkm1sTA",
        "outputId": "ab87d37c-7186-479d-fc0d-83a69780a66d",
        "colab": {
          "base_uri": "https://localhost:8080/",
          "height": 233
        }
      },
      "source": [
        "df.loc[daybefore:today].head()"
      ],
      "execution_count": null,
      "outputs": [
        {
          "output_type": "execute_result",
>>>>>>> 6732020aa24fa62b4c396bbb8c7bf5f85786e657
          "data": {
            "text/html": [
              "<div>\n",
              "<style scoped>\n",
              "    .dataframe tbody tr th:only-of-type {\n",
              "        vertical-align: middle;\n",
              "    }\n",
              "\n",
              "    .dataframe tbody tr th {\n",
              "        vertical-align: top;\n",
              "    }\n",
              "\n",
              "    .dataframe thead th {\n",
              "        text-align: right;\n",
              "    }\n",
              "</style>\n",
              "<table border=\"1\" class=\"dataframe\">\n",
              "  <thead>\n",
              "    <tr style=\"text-align: right;\">\n",
              "      <th></th>\n",
              "      <th>state</th>\n",
              "      <th>fips</th>\n",
              "      <th>cases</th>\n",
              "      <th>deaths</th>\n",
              "    </tr>\n",
              "    <tr>\n",
              "      <th>date</th>\n",
              "      <th></th>\n",
              "      <th></th>\n",
              "      <th></th>\n",
              "      <th></th>\n",
              "    </tr>\n",
              "  </thead>\n",
              "  <tbody>\n",
              "    <tr>\n",
<<<<<<< HEAD
              "      <th>2022-07-28</th>\n",
              "      <td>Alabama</td>\n",
              "      <td>1</td>\n",
              "      <td>1421760</td>\n",
              "      <td>19890</td>\n",
              "    </tr>\n",
              "    <tr>\n",
              "      <th>2022-07-28</th>\n",
              "      <td>Alaska</td>\n",
              "      <td>2</td>\n",
              "      <td>281969</td>\n",
              "      <td>1270</td>\n",
              "    </tr>\n",
              "    <tr>\n",
              "      <th>2022-07-28</th>\n",
              "      <td>American Samoa</td>\n",
              "      <td>60</td>\n",
              "      <td>7471</td>\n",
              "      <td>33</td>\n",
              "    </tr>\n",
              "    <tr>\n",
              "      <th>2022-07-28</th>\n",
              "      <td>Arizona</td>\n",
              "      <td>4</td>\n",
              "      <td>2196429</td>\n",
              "      <td>30768</td>\n",
              "    </tr>\n",
              "    <tr>\n",
              "      <th>2022-07-28</th>\n",
              "      <td>Arkansas</td>\n",
              "      <td>5</td>\n",
              "      <td>901129</td>\n",
              "      <td>11699</td>\n",
=======
              "      <th>2020-04-06</th>\n",
              "      <td>Alabama</td>\n",
              "      <td>1</td>\n",
              "      <td>2006</td>\n",
              "      <td>53</td>\n",
              "    </tr>\n",
              "    <tr>\n",
              "      <th>2020-04-06</th>\n",
              "      <td>Alaska</td>\n",
              "      <td>2</td>\n",
              "      <td>189</td>\n",
              "      <td>4</td>\n",
              "    </tr>\n",
              "    <tr>\n",
              "      <th>2020-04-06</th>\n",
              "      <td>Arizona</td>\n",
              "      <td>4</td>\n",
              "      <td>2465</td>\n",
              "      <td>67</td>\n",
              "    </tr>\n",
              "    <tr>\n",
              "      <th>2020-04-06</th>\n",
              "      <td>Arkansas</td>\n",
              "      <td>5</td>\n",
              "      <td>927</td>\n",
              "      <td>16</td>\n",
              "    </tr>\n",
              "    <tr>\n",
              "      <th>2020-04-06</th>\n",
              "      <td>California</td>\n",
              "      <td>6</td>\n",
              "      <td>16284</td>\n",
              "      <td>386</td>\n",
>>>>>>> 6732020aa24fa62b4c396bbb8c7bf5f85786e657
              "    </tr>\n",
              "  </tbody>\n",
              "</table>\n",
              "</div>"
            ],
            "text/plain": [
<<<<<<< HEAD
              "                     state  fips    cases  deaths\n",
              "date                                             \n",
              "2022-07-28         Alabama     1  1421760   19890\n",
              "2022-07-28          Alaska     2   281969    1270\n",
              "2022-07-28  American Samoa    60     7471      33\n",
              "2022-07-28         Arizona     4  2196429   30768\n",
              "2022-07-28        Arkansas     5   901129   11699"
            ]
          },
          "execution_count": 12,
          "metadata": {},
          "output_type": "execute_result"
        }
      ],
      "source": [
        "df.loc[daybefore:today].head()"
=======
              "                 state  fips  cases  deaths\n",
              "date                                       \n",
              "2020-04-06     Alabama     1   2006      53\n",
              "2020-04-06      Alaska     2    189       4\n",
              "2020-04-06     Arizona     4   2465      67\n",
              "2020-04-06    Arkansas     5    927      16\n",
              "2020-04-06  California     6  16284     386"
            ]
          },
          "metadata": {
            "tags": []
          },
          "execution_count": 36
        }
>>>>>>> 6732020aa24fa62b4c396bbb8c7bf5f85786e657
      ]
    },
    {
      "cell_type": "markdown",
      "metadata": {
        "id": "Ek_hurrf5FFi"
      },
      "source": [
        "*The distribution of the data by date*"
      ]
    },
    {
      "cell_type": "code",
<<<<<<< HEAD
      "execution_count": 25,
      "metadata": {
        "colab": {
          "base_uri": "https://localhost:8080/",
          "height": 283
        },
        "id": "SHl20wNuiuMw",
        "outputId": "720f5839-d7ac-444f-9f53-f65c598ece8a"
      },
      "outputs": [
        {
          "data": {
            "text/plain": [
              "<Axes: xlabel='deaths', ylabel='Density'>"
            ]
          },
          "execution_count": 25,
          "metadata": {},
          "output_type": "execute_result"
        },
        {
          "data": {
            "image/png": "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",
            "text/plain": [
              "<Figure size 640x480 with 1 Axes>"
            ]
          },
          "metadata": {},
          "output_type": "display_data"
        }
      ],
      "source": [
        "sns.kdeplot(df.loc[daybefore:today][\"deaths\"], fill=True)"
=======
      "metadata": {
        "id": "SHl20wNuiuMw",
        "outputId": "720f5839-d7ac-444f-9f53-f65c598ece8a",
        "colab": {
          "base_uri": "https://localhost:8080/",
          "height": 283
        }
      },
      "source": [
        "sns.kdeplot(df.loc[daybefore:today][\"deaths\"], shade=True)"
      ],
      "execution_count": null,
      "outputs": [
        {
          "output_type": "execute_result",
          "data": {
            "text/plain": [
              "<matplotlib.axes._subplots.AxesSubplot at 0x7fdedc7fab00>"
            ]
          },
          "metadata": {
            "tags": []
          },
          "execution_count": 37
        },
        {
          "output_type": "display_data",
          "data": {
            "image/png": "iVBORw0KGgoAAAANSUhEUgAAAYQAAAD4CAYAAADsKpHdAAAABHNCSVQICAgIfAhkiAAAAAlwSFlz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\ngg==\n",
            "text/plain": [
              "<Figure size 432x288 with 1 Axes>"
            ]
          },
          "metadata": {
            "tags": []
          }
        }
>>>>>>> 6732020aa24fa62b4c396bbb8c7bf5f85786e657
      ]
    },
    {
      "cell_type": "markdown",
      "metadata": {
        "id": "ehV0NJINmR5S"
      },
      "source": [
        "*Sort DataFrame in place by states with highest deaths and cases and show first 10 results*"
      ]
    },
    {
      "cell_type": "code",
<<<<<<< HEAD
      "execution_count": 14,
      "metadata": {
        "colab": {
          "base_uri": "https://localhost:8080/",
          "height": 387
        },
        "id": "8QcPkd6CnH6q",
        "outputId": "0e30a007-7af4-4adb-e56b-c5e62e0e41e7"
      },
      "outputs": [
        {
=======
      "metadata": {
        "id": "8QcPkd6CnH6q",
        "outputId": "0e30a007-7af4-4adb-e56b-c5e62e0e41e7",
        "colab": {
          "base_uri": "https://localhost:8080/",
          "height": 387
        }
      },
      "source": [
        "current_df = df.loc[daybefore:today].sort_values(by=[\"deaths\", \"cases\"], ascending=False)\n",
        "current_df.head(10)"
      ],
      "execution_count": null,
      "outputs": [
        {
          "output_type": "execute_result",
>>>>>>> 6732020aa24fa62b4c396bbb8c7bf5f85786e657
          "data": {
            "text/html": [
              "<div>\n",
              "<style scoped>\n",
              "    .dataframe tbody tr th:only-of-type {\n",
              "        vertical-align: middle;\n",
              "    }\n",
              "\n",
              "    .dataframe tbody tr th {\n",
              "        vertical-align: top;\n",
              "    }\n",
              "\n",
              "    .dataframe thead th {\n",
              "        text-align: right;\n",
              "    }\n",
              "</style>\n",
              "<table border=\"1\" class=\"dataframe\">\n",
              "  <thead>\n",
              "    <tr style=\"text-align: right;\">\n",
              "      <th></th>\n",
              "      <th>state</th>\n",
              "      <th>fips</th>\n",
              "      <th>cases</th>\n",
              "      <th>deaths</th>\n",
              "    </tr>\n",
              "    <tr>\n",
              "      <th>date</th>\n",
              "      <th></th>\n",
              "      <th></th>\n",
              "      <th></th>\n",
              "      <th></th>\n",
              "    </tr>\n",
              "  </thead>\n",
              "  <tbody>\n",
              "    <tr>\n",
<<<<<<< HEAD
              "      <th>2023-03-23</th>\n",
              "      <td>California</td>\n",
              "      <td>6</td>\n",
              "      <td>12169158</td>\n",
              "      <td>104277</td>\n",
              "    </tr>\n",
              "    <tr>\n",
              "      <th>2023-03-22</th>\n",
              "      <td>California</td>\n",
              "      <td>6</td>\n",
              "      <td>12155467</td>\n",
              "      <td>104196</td>\n",
              "    </tr>\n",
              "    <tr>\n",
              "      <th>2023-03-21</th>\n",
              "      <td>California</td>\n",
              "      <td>6</td>\n",
              "      <td>12154941</td>\n",
              "      <td>104185</td>\n",
              "    </tr>\n",
              "    <tr>\n",
              "      <th>2023-03-20</th>\n",
              "      <td>California</td>\n",
              "      <td>6</td>\n",
              "      <td>12154293</td>\n",
              "      <td>104165</td>\n",
              "    </tr>\n",
              "    <tr>\n",
              "      <th>2023-03-19</th>\n",
              "      <td>California</td>\n",
              "      <td>6</td>\n",
              "      <td>12153083</td>\n",
              "      <td>104130</td>\n",
              "    </tr>\n",
              "    <tr>\n",
              "      <th>2023-03-17</th>\n",
              "      <td>California</td>\n",
              "      <td>6</td>\n",
              "      <td>12153079</td>\n",
              "      <td>104130</td>\n",
              "    </tr>\n",
              "    <tr>\n",
              "      <th>2023-03-18</th>\n",
              "      <td>California</td>\n",
              "      <td>6</td>\n",
              "      <td>12153079</td>\n",
              "      <td>104130</td>\n",
              "    </tr>\n",
              "    <tr>\n",
              "      <th>2023-03-16</th>\n",
              "      <td>California</td>\n",
              "      <td>6</td>\n",
              "      <td>12152129</td>\n",
              "      <td>104114</td>\n",
              "    </tr>\n",
              "    <tr>\n",
              "      <th>2023-03-15</th>\n",
              "      <td>California</td>\n",
              "      <td>6</td>\n",
              "      <td>12136243</td>\n",
              "      <td>104047</td>\n",
              "    </tr>\n",
              "    <tr>\n",
              "      <th>2023-03-14</th>\n",
              "      <td>California</td>\n",
              "      <td>6</td>\n",
              "      <td>12135588</td>\n",
              "      <td>104038</td>\n",
=======
              "      <th>2020-04-06</th>\n",
              "      <td>New York</td>\n",
              "      <td>36</td>\n",
              "      <td>130703</td>\n",
              "      <td>4758</td>\n",
              "    </tr>\n",
              "    <tr>\n",
              "      <th>2020-04-06</th>\n",
              "      <td>New Jersey</td>\n",
              "      <td>34</td>\n",
              "      <td>41090</td>\n",
              "      <td>1005</td>\n",
              "    </tr>\n",
              "    <tr>\n",
              "      <th>2020-04-06</th>\n",
              "      <td>Michigan</td>\n",
              "      <td>26</td>\n",
              "      <td>17130</td>\n",
              "      <td>727</td>\n",
              "    </tr>\n",
              "    <tr>\n",
              "      <th>2020-04-06</th>\n",
              "      <td>Louisiana</td>\n",
              "      <td>22</td>\n",
              "      <td>14867</td>\n",
              "      <td>512</td>\n",
              "    </tr>\n",
              "    <tr>\n",
              "      <th>2020-04-06</th>\n",
              "      <td>California</td>\n",
              "      <td>6</td>\n",
              "      <td>16284</td>\n",
              "      <td>386</td>\n",
              "    </tr>\n",
              "    <tr>\n",
              "      <th>2020-04-06</th>\n",
              "      <td>Washington</td>\n",
              "      <td>53</td>\n",
              "      <td>8384</td>\n",
              "      <td>383</td>\n",
              "    </tr>\n",
              "    <tr>\n",
              "      <th>2020-04-06</th>\n",
              "      <td>Illinois</td>\n",
              "      <td>17</td>\n",
              "      <td>12262</td>\n",
              "      <td>309</td>\n",
              "    </tr>\n",
              "    <tr>\n",
              "      <th>2020-04-06</th>\n",
              "      <td>Georgia</td>\n",
              "      <td>13</td>\n",
              "      <td>7558</td>\n",
              "      <td>294</td>\n",
              "    </tr>\n",
              "    <tr>\n",
              "      <th>2020-04-06</th>\n",
              "      <td>Massachusetts</td>\n",
              "      <td>25</td>\n",
              "      <td>13837</td>\n",
              "      <td>260</td>\n",
              "    </tr>\n",
              "    <tr>\n",
              "      <th>2020-04-06</th>\n",
              "      <td>Florida</td>\n",
              "      <td>12</td>\n",
              "      <td>13621</td>\n",
              "      <td>253</td>\n",
>>>>>>> 6732020aa24fa62b4c396bbb8c7bf5f85786e657
              "    </tr>\n",
              "  </tbody>\n",
              "</table>\n",
              "</div>"
            ],
            "text/plain": [
<<<<<<< HEAD
              "                 state  fips     cases  deaths\n",
              "date                                          \n",
              "2023-03-23  California     6  12169158  104277\n",
              "2023-03-22  California     6  12155467  104196\n",
              "2023-03-21  California     6  12154941  104185\n",
              "2023-03-20  California     6  12154293  104165\n",
              "2023-03-19  California     6  12153083  104130\n",
              "2023-03-17  California     6  12153079  104130\n",
              "2023-03-18  California     6  12153079  104130\n",
              "2023-03-16  California     6  12152129  104114\n",
              "2023-03-15  California     6  12136243  104047\n",
              "2023-03-14  California     6  12135588  104038"
            ]
          },
          "execution_count": 14,
          "metadata": {},
          "output_type": "execute_result"
        }
      ],
      "source": [
        "current_df = df.loc[daybefore:today].sort_values(by=[\"deaths\", \"cases\"], ascending=False)\n",
        "current_df.head(10)"
=======
              "                    state  fips   cases  deaths\n",
              "date                                           \n",
              "2020-04-06       New York    36  130703    4758\n",
              "2020-04-06     New Jersey    34   41090    1005\n",
              "2020-04-06       Michigan    26   17130     727\n",
              "2020-04-06      Louisiana    22   14867     512\n",
              "2020-04-06     California     6   16284     386\n",
              "2020-04-06     Washington    53    8384     383\n",
              "2020-04-06       Illinois    17   12262     309\n",
              "2020-04-06        Georgia    13    7558     294\n",
              "2020-04-06  Massachusetts    25   13837     260\n",
              "2020-04-06        Florida    12   13621     253"
            ]
          },
          "metadata": {
            "tags": []
          },
          "execution_count": 38
        }
>>>>>>> 6732020aa24fa62b4c396bbb8c7bf5f85786e657
      ]
    },
    {
      "cell_type": "markdown",
      "metadata": {
        "id": "OSNzoid28GEX"
      },
      "source": [
        "*There should be 50 states and District of Columbia*"
      ]
    },
    {
      "cell_type": "code",
<<<<<<< HEAD
      "execution_count": 15,
      "metadata": {
        "colab": {
          "base_uri": "https://localhost:8080/",
          "height": 35
        },
        "id": "Ktah9SqV8I3i",
        "outputId": "2b0bb5eb-1186-405a-fb87-0cf89cffe8e0"
      },
      "outputs": [
        {
          "data": {
            "text/plain": [
              "(13384, 4)"
            ]
          },
          "execution_count": 15,
          "metadata": {},
          "output_type": "execute_result"
        }
      ],
      "source": [
        "current_df.shape"
=======
      "metadata": {
        "id": "Ktah9SqV8I3i",
        "outputId": "2b0bb5eb-1186-405a-fb87-0cf89cffe8e0",
        "colab": {
          "base_uri": "https://localhost:8080/",
          "height": 35
        }
      },
      "source": [
        "current_df.shape"
      ],
      "execution_count": null,
      "outputs": [
        {
          "output_type": "execute_result",
          "data": {
            "text/plain": [
              "(55, 4)"
            ]
          },
          "metadata": {
            "tags": []
          },
          "execution_count": 39
        }
>>>>>>> 6732020aa24fa62b4c396bbb8c7bf5f85786e657
      ]
    },
    {
      "cell_type": "markdown",
      "metadata": {
        "id": "i_M6NGQk8_2U"
      },
      "source": [
        "### State Based Analysis"
      ]
    },
    {
      "cell_type": "markdown",
      "metadata": {
        "id": "xzGQ9z_oA6V7"
      },
      "source": [
        "*Get 10 states and subset*"
      ]
    },
    {
      "cell_type": "code",
<<<<<<< HEAD
      "execution_count": 16,
      "metadata": {
        "colab": {
          "base_uri": "https://localhost:8080/",
          "height": 197
        },
        "id": "PeicLkAlA9y4",
        "outputId": "319ec37e-6652-4684-fb48-1aa7245f0469"
      },
      "outputs": [
        {
          "data": {
            "text/plain": [
              "['California',\n",
              " 'California',\n",
              " 'California',\n",
              " 'California',\n",
              " 'California',\n",
              " 'California',\n",
              " 'California',\n",
              " 'California',\n",
              " 'California',\n",
              " 'California']"
            ]
          },
          "execution_count": 16,
          "metadata": {},
          "output_type": "execute_result"
        }
      ],
      "source": [
        "top_ten_states = list(current_df[\"state\"].head(10).values)\n",
        "top_ten_states"
=======
      "metadata": {
        "id": "PeicLkAlA9y4",
        "outputId": "319ec37e-6652-4684-fb48-1aa7245f0469",
        "colab": {
          "base_uri": "https://localhost:8080/",
          "height": 197
        }
      },
      "source": [
        "top_ten_states = list(current_df[\"state\"].head(10).values)\n",
        "top_ten_states"
      ],
      "execution_count": null,
      "outputs": [
        {
          "output_type": "execute_result",
          "data": {
            "text/plain": [
              "['New York',\n",
              " 'New Jersey',\n",
              " 'Michigan',\n",
              " 'Louisiana',\n",
              " 'California',\n",
              " 'Washington',\n",
              " 'Illinois',\n",
              " 'Georgia',\n",
              " 'Massachusetts',\n",
              " 'Florida']"
            ]
          },
          "metadata": {
            "tags": []
          },
          "execution_count": 40
        }
>>>>>>> 6732020aa24fa62b4c396bbb8c7bf5f85786e657
      ]
    },
    {
      "cell_type": "code",
<<<<<<< HEAD
      "execution_count": 17,
      "metadata": {
        "id": "uzv8KJtx9bFO"
      },
      "outputs": [],
      "source": [
        "top_states_df = df[df['state'].isin(top_ten_states)].drop(columns=\"fips\")"
      ]
=======
      "metadata": {
        "id": "uzv8KJtx9bFO"
      },
      "source": [
        "top_states_df = df[df['state'].isin(top_ten_states)].drop(columns=\"fips\")"
      ],
      "execution_count": null,
      "outputs": []
>>>>>>> 6732020aa24fa62b4c396bbb8c7bf5f85786e657
    },
    {
      "cell_type": "markdown",
      "metadata": {
        "id": "dkLverBTICn3"
      },
      "source": [
        "*Verify the unique states left is the same 10*"
      ]
    },
    {
      "cell_type": "code",
<<<<<<< HEAD
      "execution_count": 18,
      "metadata": {
        "colab": {
          "base_uri": "https://localhost:8080/",
          "height": 197
        },
        "id": "l3bJzaxyHnD6",
        "outputId": "5f6d40b2-05e2-41b4-9506-a5431c3498c3"
      },
      "outputs": [
        {
          "data": {
            "text/plain": [
              "{'California'}"
            ]
          },
          "execution_count": 18,
          "metadata": {},
          "output_type": "execute_result"
        }
      ],
      "source": [
        "set(top_states_df.state.values)"
=======
      "metadata": {
        "id": "l3bJzaxyHnD6",
        "outputId": "5f6d40b2-05e2-41b4-9506-a5431c3498c3",
        "colab": {
          "base_uri": "https://localhost:8080/",
          "height": 197
        }
      },
      "source": [
        "set(top_states_df.state.values)"
      ],
      "execution_count": null,
      "outputs": [
        {
          "output_type": "execute_result",
          "data": {
            "text/plain": [
              "{'California',\n",
              " 'Florida',\n",
              " 'Georgia',\n",
              " 'Illinois',\n",
              " 'Louisiana',\n",
              " 'Massachusetts',\n",
              " 'Michigan',\n",
              " 'New Jersey',\n",
              " 'New York',\n",
              " 'Washington'}"
            ]
          },
          "metadata": {
            "tags": []
          },
          "execution_count": 41
        }
>>>>>>> 6732020aa24fa62b4c396bbb8c7bf5f85786e657
      ]
    },
    {
      "cell_type": "code",
<<<<<<< HEAD
      "execution_count": 19,
      "metadata": {
        "colab": {
          "base_uri": "https://localhost:8080/",
          "height": 502
        },
        "id": "9ba-QT229CYE",
        "outputId": "cb08520e-7eba-4cf2-fa0d-7365b30518ff"
      },
      "outputs": [
        {
          "data": {
            "text/plain": [
              "<Figure size 1500x500 with 0 Axes>"
            ]
          },
          "metadata": {},
          "output_type": "display_data"
        },
        {
          "data": {
            "image/png": "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",
            "text/plain": [
              "<Figure size 1750x350 with 1 Axes>"
            ]
          },
          "metadata": {},
          "output_type": "display_data"
        }
      ],
=======
      "metadata": {
        "id": "9ba-QT229CYE",
        "outputId": "cb08520e-7eba-4cf2-fa0d-7365b30518ff",
        "colab": {
          "base_uri": "https://localhost:8080/",
          "height": 502
        }
      },
>>>>>>> 6732020aa24fa62b4c396bbb8c7bf5f85786e657
      "source": [
        "import seaborn as sns\n",
        "import matplotlib.pyplot as plt\n",
        "\n",
        "plt.figure(figsize=(15,5))\n",
        "ax = sns.lmplot(x=\"cases\", y=\"deaths\",\n",
        "                    height=3.5,\n",
        "                    col=\"state\",\n",
        "                    col_wrap=5,\n",
        "                    hue=\"state\",\n",
        "                    palette=\"Set2\",\n",
        "                    data=top_states_df)\n",
        "ax.fig.subplots_adjust(wspace=.2)"
<<<<<<< HEAD
=======
      ],
      "execution_count": null,
      "outputs": [
        {
          "output_type": "display_data",
          "data": {
            "text/plain": [
              "<Figure size 1080x360 with 0 Axes>"
            ]
          },
          "metadata": {
            "tags": []
          }
        },
        {
          "output_type": "display_data",
          "data": {
            "image/png": "iVBORw0KGgoAAAANSUhEUgAABO0AAAHwCAYAAAD6q5v8AAAABHNCSVQICAgIfAhkiAAAAAlwSFlz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\nSZIkSZIkSS3m/wIa03XIxgg9/AAAAABJRU5ErkJggg==\n",
            "text/plain": [
              "<Figure size 1260x504 with 10 Axes>"
            ]
          },
          "metadata": {
            "tags": []
          }
        }
>>>>>>> 6732020aa24fa62b4c396bbb8c7bf5f85786e657
      ]
    },
    {
      "cell_type": "markdown",
      "metadata": {
        "id": "in-JRg0lOCrp"
      },
      "source": [
        "*Interactive plot of top states*"
      ]
    },
    {
      "cell_type": "code",
<<<<<<< HEAD
      "execution_count": 20,
      "metadata": {
        "colab": {
          "base_uri": "https://localhost:8080/",
          "height": 233
        },
        "id": "Vf7j4jUBaKMS",
        "outputId": "1ac26832-4bfe-4f23-cd50-be1d8d873f50"
      },
      "outputs": [
        {
=======
      "metadata": {
        "id": "Vf7j4jUBaKMS",
        "outputId": "1ac26832-4bfe-4f23-cd50-be1d8d873f50",
        "colab": {
          "base_uri": "https://localhost:8080/",
          "height": 233
        }
      },
      "source": [
        "top_states_march_current_df = top_states_df.loc[\"2020-03-08\":today].sort_values(by=[\"deaths\", \"cases\"], ascending=True)\n",
        "top_states_march_current_df.head()"
      ],
      "execution_count": null,
      "outputs": [
        {
          "output_type": "execute_result",
>>>>>>> 6732020aa24fa62b4c396bbb8c7bf5f85786e657
          "data": {
            "text/html": [
              "<div>\n",
              "<style scoped>\n",
              "    .dataframe tbody tr th:only-of-type {\n",
              "        vertical-align: middle;\n",
              "    }\n",
              "\n",
              "    .dataframe tbody tr th {\n",
              "        vertical-align: top;\n",
              "    }\n",
              "\n",
              "    .dataframe thead th {\n",
              "        text-align: right;\n",
              "    }\n",
              "</style>\n",
              "<table border=\"1\" class=\"dataframe\">\n",
              "  <thead>\n",
              "    <tr style=\"text-align: right;\">\n",
              "      <th></th>\n",
              "      <th>state</th>\n",
              "      <th>cases</th>\n",
              "      <th>deaths</th>\n",
              "    </tr>\n",
              "    <tr>\n",
              "      <th>date</th>\n",
              "      <th></th>\n",
              "      <th></th>\n",
              "      <th></th>\n",
              "    </tr>\n",
              "  </thead>\n",
              "  <tbody>\n",
              "    <tr>\n",
<<<<<<< HEAD
              "      <th>2020-03-08</th>\n",
              "      <td>California</td>\n",
              "      <td>112</td>\n",
              "      <td>1</td>\n",
              "    </tr>\n",
              "    <tr>\n",
              "      <th>2020-03-09</th>\n",
              "      <td>California</td>\n",
              "      <td>172</td>\n",
              "      <td>2</td>\n",
              "    </tr>\n",
              "    <tr>\n",
              "      <th>2020-03-10</th>\n",
              "      <td>California</td>\n",
              "      <td>179</td>\n",
              "      <td>3</td>\n",
              "    </tr>\n",
              "    <tr>\n",
              "      <th>2020-03-11</th>\n",
              "      <td>California</td>\n",
              "      <td>202</td>\n",
              "      <td>4</td>\n",
              "    </tr>\n",
              "    <tr>\n",
              "      <th>2020-03-12</th>\n",
              "      <td>California</td>\n",
              "      <td>252</td>\n",
              "      <td>4</td>\n",
=======
              "      <th>2020-03-09</th>\n",
              "      <td>Louisiana</td>\n",
              "      <td>1</td>\n",
              "      <td>0</td>\n",
              "    </tr>\n",
              "    <tr>\n",
              "      <th>2020-03-10</th>\n",
              "      <td>Michigan</td>\n",
              "      <td>2</td>\n",
              "      <td>0</td>\n",
              "    </tr>\n",
              "    <tr>\n",
              "      <th>2020-03-11</th>\n",
              "      <td>Michigan</td>\n",
              "      <td>2</td>\n",
              "      <td>0</td>\n",
              "    </tr>\n",
              "    <tr>\n",
              "      <th>2020-03-08</th>\n",
              "      <td>New Jersey</td>\n",
              "      <td>6</td>\n",
              "      <td>0</td>\n",
              "    </tr>\n",
              "    <tr>\n",
              "      <th>2020-03-10</th>\n",
              "      <td>Louisiana</td>\n",
              "      <td>6</td>\n",
              "      <td>0</td>\n",
>>>>>>> 6732020aa24fa62b4c396bbb8c7bf5f85786e657
              "    </tr>\n",
              "  </tbody>\n",
              "</table>\n",
              "</div>"
            ],
            "text/plain": [
              "                 state  cases  deaths\n",
              "date                                 \n",
<<<<<<< HEAD
              "2020-03-08  California    112       1\n",
              "2020-03-09  California    172       2\n",
              "2020-03-10  California    179       3\n",
              "2020-03-11  California    202       4\n",
              "2020-03-12  California    252       4"
            ]
          },
          "execution_count": 20,
          "metadata": {},
          "output_type": "execute_result"
        }
      ],
      "source": [
        "top_states_march_current_df = top_states_df.loc[\"2020-03-08\":today].sort_values(by=[\"deaths\", \"cases\"], ascending=True)\n",
        "top_states_march_current_df.head()"
=======
              "2020-03-09   Louisiana      1       0\n",
              "2020-03-10    Michigan      2       0\n",
              "2020-03-11    Michigan      2       0\n",
              "2020-03-08  New Jersey      6       0\n",
              "2020-03-10   Louisiana      6       0"
            ]
          },
          "metadata": {
            "tags": []
          },
          "execution_count": 43
        }
>>>>>>> 6732020aa24fa62b4c396bbb8c7bf5f85786e657
      ]
    },
    {
      "cell_type": "code",
<<<<<<< HEAD
      "execution_count": 30,
      "metadata": {
        "colab": {
          "base_uri": "https://localhost:8080/",
          "height": 542
        },
        "id": "D7yg3JizOHIv",
        "outputId": "c61a64f7-d477-4fb5-8a08-f1912449bc01"
      },
      "outputs": [],
      "source": [
        "# import plotly.io as pio\n",
        "# pio.renderers.default = 'colab'\n",
        "# import plotly.express as px\n",
        "# fig = px.scatter(top_states_march_current_df, x=top_states_march_current_df.index, y=\"cases\", size=\"deaths\", color=\"state\", facet_col=\"state\")\n",
        "# fig.show()"
=======
      "metadata": {
        "id": "D7yg3JizOHIv",
        "outputId": "c61a64f7-d477-4fb5-8a08-f1912449bc01",
        "colab": {
          "base_uri": "https://localhost:8080/",
          "height": 542
        }
      },
      "source": [
        "import plotly.io as pio\n",
        "pio.renderers.default = 'colab'\n",
        "import plotly.express as px\n",
        "fig = px.scatter(top_states_march_current_df, x=top_states_march_current_df.index, y=\"cases\", size=\"deaths\", color=\"state\", facet_col=\"state\")\n",
        "fig.show()"
      ],
      "execution_count": null,
      "outputs": [
        {
          "output_type": "display_data",
          "data": {
            "text/html": [
              "<html>\n",
              "<head><meta charset=\"utf-8\" /></head>\n",
              "<body>\n",
              "    <div>\n",
              "            <script src=\"https://cdnjs.cloudflare.com/ajax/libs/mathjax/2.7.5/MathJax.js?config=TeX-AMS-MML_SVG\"></script><script type=\"text/javascript\">if (window.MathJax) {MathJax.Hub.Config({SVG: {font: \"STIX-Web\"}});}</script>\n",
              "                <script type=\"text/javascript\">window.PlotlyConfig = {MathJaxConfig: 'local'};</script>\n",
              "        <script src=\"https://cdn.plot.ly/plotly-latest.min.js\"></script>    \n",
              "            <div id=\"c51066d6-e2d7-4453-acda-7a91efe401c8\" class=\"plotly-graph-div\" style=\"height:525px; width:100%;\"></div>\n",
              "            <script type=\"text/javascript\">\n",
              "                \n",
              "                    window.PLOTLYENV=window.PLOTLYENV || {};\n",
              "                    \n",
              "                if (document.getElementById(\"c51066d6-e2d7-4453-acda-7a91efe401c8\")) {\n",
              "                    Plotly.newPlot(\n",
              "                        'c51066d6-e2d7-4453-acda-7a91efe401c8',\n",
              "                        [{\"hoverlabel\": {\"namelength\": 0}, \"hovertemplate\": \"state=Louisiana<br>x=%{x}<br>cases=%{y}<br>deaths=%{marker.size}\", \"legendgroup\": \"state=Louisiana\", \"marker\": {\"color\": \"#636efa\", \"size\": [0, 0, 0, 0, 0, 1, 2, 3, 5, 7, 10, 10, 16, 20, 34, 46, 65, 83, 119, 137, 152, 186, 240, 273, 310, 370, 412, 477, 512], \"sizemode\": \"area\", \"sizeref\": 11.895, \"symbol\": \"circle\"}, \"mode\": \"markers\", \"name\": \"state=Louisiana\", \"showlegend\": true, \"type\": \"scatter\", \"x\": [\"2020-03-09T00:00:00\", \"2020-03-10T00:00:00\", \"2020-03-11T00:00:00\", \"2020-03-12T00:00:00\", \"2020-03-13T00:00:00\", \"2020-03-14T00:00:00\", \"2020-03-15T00:00:00\", \"2020-03-16T00:00:00\", \"2020-03-17T00:00:00\", \"2020-03-18T00:00:00\", \"2020-03-19T00:00:00\", \"2020-03-20T00:00:00\", \"2020-03-21T00:00:00\", \"2020-03-22T00:00:00\", \"2020-03-23T00:00:00\", \"2020-03-24T00:00:00\", \"2020-03-25T00:00:00\", \"2020-03-26T00:00:00\", \"2020-03-27T00:00:00\", \"2020-03-28T00:00:00\", \"2020-03-29T00:00:00\", \"2020-03-30T00:00:00\", \"2020-03-31T00:00:00\", \"2020-04-01T00:00:00\", \"2020-04-02T00:00:00\", \"2020-04-03T00:00:00\", \"2020-04-04T00:00:00\", \"2020-04-05T00:00:00\", \"2020-04-06T00:00:00\"], \"xaxis\": \"x\", \"y\": [1, 6, 13, 14, 36, 77, 103, 137, 196, 280, 392, 537, 763, 837, 1172, 1388, 1795, 2305, 2746, 3315, 3540, 4025, 5237, 6424, 9150, 10297, 12496, 13010, 14867], \"yaxis\": \"y\"}, {\"hoverlabel\": {\"namelength\": 0}, \"hovertemplate\": \"state=Michigan<br>x=%{x}<br>cases=%{y}<br>deaths=%{marker.size}\", \"legendgroup\": \"state=Michigan\", \"marker\": {\"color\": \"#EF553B\", \"size\": [0, 0, 0, 0, 0, 0, 0, 0, 1, 3, 4, 6, 9, 16, 24, 43, 63, 93, 111, 132, 197, 264, 336, 417, 478, 540, 616, 727], \"sizemode\": \"area\", \"sizeref\": 11.895, \"symbol\": \"circle\"}, \"mode\": \"markers\", \"name\": \"state=Michigan\", \"showlegend\": true, \"type\": \"scatter\", \"x\": [\"2020-03-10T00:00:00\", \"2020-03-11T00:00:00\", \"2020-03-12T00:00:00\", \"2020-03-13T00:00:00\", \"2020-03-14T00:00:00\", \"2020-03-15T00:00:00\", \"2020-03-16T00:00:00\", \"2020-03-17T00:00:00\", \"2020-03-18T00:00:00\", \"2020-03-19T00:00:00\", \"2020-03-20T00:00:00\", \"2020-03-21T00:00:00\", \"2020-03-22T00:00:00\", \"2020-03-23T00:00:00\", \"2020-03-24T00:00:00\", \"2020-03-25T00:00:00\", \"2020-03-26T00:00:00\", \"2020-03-27T00:00:00\", \"2020-03-28T00:00:00\", \"2020-03-29T00:00:00\", \"2020-03-30T00:00:00\", \"2020-03-31T00:00:00\", \"2020-04-01T00:00:00\", \"2020-04-02T00:00:00\", \"2020-04-03T00:00:00\", \"2020-04-04T00:00:00\", \"2020-04-05T00:00:00\", \"2020-04-06T00:00:00\"], \"xaxis\": \"x2\", \"y\": [2, 2, 12, 25, 33, 53, 54, 65, 80, 334, 548, 787, 1033, 1324, 1791, 2294, 2878, 3657, 4635, 5486, 6508, 7630, 9293, 10791, 12670, 14225, 15635, 17130], \"yaxis\": \"y2\"}, {\"hoverlabel\": {\"namelength\": 0}, \"hovertemplate\": \"state=New Jersey<br>x=%{x}<br>cases=%{y}<br>deaths=%{marker.size}\", \"legendgroup\": \"state=New Jersey\", \"marker\": {\"color\": \"#00cc96\", \"size\": [0, 0, 1, 1, 1, 1, 2, 2, 3, 3, 5, 9, 11, 16, 20, 27, 44, 62, 81, 108, 140, 161, 199, 267, 355, 539, 647, 847, 917, 1005], \"sizemode\": \"area\", \"sizeref\": 11.895, \"symbol\": \"circle\"}, \"mode\": \"markers\", \"name\": \"state=New Jersey\", \"showlegend\": true, \"type\": \"scatter\", \"x\": [\"2020-03-08T00:00:00\", \"2020-03-09T00:00:00\", \"2020-03-10T00:00:00\", \"2020-03-11T00:00:00\", \"2020-03-12T00:00:00\", \"2020-03-13T00:00:00\", \"2020-03-14T00:00:00\", \"2020-03-15T00:00:00\", \"2020-03-16T00:00:00\", \"2020-03-17T00:00:00\", \"2020-03-18T00:00:00\", \"2020-03-19T00:00:00\", \"2020-03-20T00:00:00\", \"2020-03-21T00:00:00\", \"2020-03-22T00:00:00\", \"2020-03-23T00:00:00\", \"2020-03-24T00:00:00\", \"2020-03-25T00:00:00\", \"2020-03-26T00:00:00\", \"2020-03-27T00:00:00\", \"2020-03-28T00:00:00\", \"2020-03-29T00:00:00\", \"2020-03-30T00:00:00\", \"2020-03-31T00:00:00\", \"2020-04-01T00:00:00\", \"2020-04-02T00:00:00\", \"2020-04-03T00:00:00\", \"2020-04-04T00:00:00\", \"2020-04-05T00:00:00\", \"2020-04-06T00:00:00\"], \"xaxis\": \"x3\", \"y\": [6, 11, 15, 23, 29, 50, 75, 98, 176, 268, 427, 735, 896, 1336, 1914, 2844, 3675, 4402, 6876, 8825, 11124, 13386, 16636, 18696, 22255, 25590, 29895, 34124, 37505, 41090], \"yaxis\": \"y3\"}, {\"hoverlabel\": {\"namelength\": 0}, \"hovertemplate\": \"state=Illinois<br>x=%{x}<br>cases=%{y}<br>deaths=%{marker.size}\", \"legendgroup\": \"state=Illinois\", \"marker\": {\"color\": \"#ab63fa\", \"size\": [0, 0, 0, 0, 0, 0, 0, 0, 0, 1, 1, 4, 5, 6, 9, 12, 16, 21, 26, 37, 50, 70, 84, 107, 146, 165, 211, 248, 282, 309], \"sizemode\": \"area\", \"sizeref\": 11.895, \"symbol\": \"circle\"}, \"mode\": \"markers\", \"name\": \"state=Illinois\", \"showlegend\": true, \"type\": \"scatter\", \"x\": [\"2020-03-08T00:00:00\", \"2020-03-09T00:00:00\", \"2020-03-10T00:00:00\", \"2020-03-11T00:00:00\", \"2020-03-12T00:00:00\", \"2020-03-13T00:00:00\", \"2020-03-14T00:00:00\", \"2020-03-15T00:00:00\", \"2020-03-16T00:00:00\", \"2020-03-17T00:00:00\", \"2020-03-18T00:00:00\", \"2020-03-19T00:00:00\", \"2020-03-20T00:00:00\", \"2020-03-21T00:00:00\", \"2020-03-22T00:00:00\", \"2020-03-23T00:00:00\", \"2020-03-24T00:00:00\", \"2020-03-25T00:00:00\", \"2020-03-26T00:00:00\", \"2020-03-27T00:00:00\", \"2020-03-28T00:00:00\", \"2020-03-29T00:00:00\", \"2020-03-30T00:00:00\", \"2020-03-31T00:00:00\", \"2020-04-01T00:00:00\", \"2020-04-02T00:00:00\", \"2020-04-03T00:00:00\", \"2020-04-04T00:00:00\", \"2020-04-05T00:00:00\", \"2020-04-06T00:00:00\"], \"xaxis\": \"x4\", \"y\": [7, 11, 19, 25, 32, 46, 66, 94, 104, 159, 286, 420, 583, 751, 1047, 1285, 1535, 1875, 2538, 3029, 3547, 4613, 5070, 5994, 6980, 7695, 8904, 10357, 11276, 12262], \"yaxis\": \"y4\"}, {\"hoverlabel\": {\"namelength\": 0}, \"hovertemplate\": \"state=Georgia<br>x=%{x}<br>cases=%{y}<br>deaths=%{marker.size}\", \"legendgroup\": \"state=Georgia\", \"marker\": {\"color\": \"#FFA15A\", \"size\": [0, 0, 0, 0, 1, 1, 1, 1, 1, 1, 3, 10, 14, 20, 25, 25, 38, 47, 56, 64, 79, 83, 102, 125, 154, 176, 198, 208, 219, 294], \"sizemode\": \"area\", \"sizeref\": 11.895, \"symbol\": \"circle\"}, \"mode\": \"markers\", \"name\": \"state=Georgia\", \"showlegend\": true, \"type\": \"scatter\", \"x\": [\"2020-03-08T00:00:00\", \"2020-03-09T00:00:00\", \"2020-03-10T00:00:00\", \"2020-03-11T00:00:00\", \"2020-03-12T00:00:00\", \"2020-03-13T00:00:00\", \"2020-03-14T00:00:00\", \"2020-03-15T00:00:00\", \"2020-03-16T00:00:00\", \"2020-03-17T00:00:00\", \"2020-03-18T00:00:00\", \"2020-03-19T00:00:00\", \"2020-03-20T00:00:00\", \"2020-03-21T00:00:00\", \"2020-03-22T00:00:00\", \"2020-03-23T00:00:00\", \"2020-03-24T00:00:00\", \"2020-03-25T00:00:00\", \"2020-03-26T00:00:00\", \"2020-03-27T00:00:00\", \"2020-03-28T00:00:00\", \"2020-03-29T00:00:00\", \"2020-03-30T00:00:00\", \"2020-03-31T00:00:00\", \"2020-04-01T00:00:00\", \"2020-04-02T00:00:00\", \"2020-04-03T00:00:00\", \"2020-04-04T00:00:00\", \"2020-04-05T00:00:00\", \"2020-04-06T00:00:00\"], \"xaxis\": \"x5\", \"y\": [11, 17, 22, 31, 31, 41, 65, 97, 118, 142, 193, 282, 482, 552, 620, 800, 1097, 1387, 1643, 2198, 2447, 2683, 3032, 4117, 4748, 5444, 5967, 6383, 6742, 7558], \"yaxis\": \"y5\"}, {\"hoverlabel\": {\"namelength\": 0}, \"hovertemplate\": \"state=Massachusetts<br>x=%{x}<br>cases=%{y}<br>deaths=%{marker.size}\", \"legendgroup\": \"state=Massachusetts\", \"marker\": {\"color\": \"#19d3f3\", \"size\": [0, 0, 0, 0, 0, 0, 0, 0, 0, 0, 0, 0, 1, 2, 5, 5, 11, 15, 25, 35, 44, 48, 61, 89, 122, 154, 192, 216, 231, 260], \"sizemode\": \"area\", \"sizeref\": 11.895, \"symbol\": \"circle\"}, \"mode\": \"markers\", \"name\": \"state=Massachusetts\", \"showlegend\": true, \"type\": \"scatter\", \"x\": [\"2020-03-08T00:00:00\", \"2020-03-09T00:00:00\", \"2020-03-10T00:00:00\", \"2020-03-11T00:00:00\", \"2020-03-12T00:00:00\", \"2020-03-13T00:00:00\", \"2020-03-14T00:00:00\", \"2020-03-15T00:00:00\", \"2020-03-16T00:00:00\", \"2020-03-17T00:00:00\", \"2020-03-18T00:00:00\", \"2020-03-19T00:00:00\", \"2020-03-20T00:00:00\", \"2020-03-21T00:00:00\", \"2020-03-22T00:00:00\", \"2020-03-23T00:00:00\", \"2020-03-24T00:00:00\", \"2020-03-25T00:00:00\", \"2020-03-26T00:00:00\", \"2020-03-27T00:00:00\", \"2020-03-28T00:00:00\", \"2020-03-29T00:00:00\", \"2020-03-30T00:00:00\", \"2020-03-31T00:00:00\", \"2020-04-01T00:00:00\", \"2020-04-02T00:00:00\", \"2020-04-03T00:00:00\", \"2020-04-04T00:00:00\", \"2020-04-05T00:00:00\", \"2020-04-06T00:00:00\"], \"xaxis\": \"x6\", \"y\": [28, 41, 92, 95, 108, 123, 138, 164, 197, 218, 256, 328, 413, 525, 646, 777, 1159, 1838, 2417, 3240, 4257, 4955, 5752, 6620, 7738, 8966, 10402, 11736, 12500, 13837], \"yaxis\": \"y6\"}, {\"hoverlabel\": {\"namelength\": 0}, \"hovertemplate\": \"state=New York<br>x=%{x}<br>cases=%{y}<br>deaths=%{marker.size}\", \"legendgroup\": \"state=New York\", \"marker\": {\"color\": \"#FF6692\", \"size\": [0, 0, 0, 0, 0, 0, 2, 6, 10, 17, 27, 30, 57, 80, 122, 159, 218, 325, 432, 535, 782, 965, 1224, 1550, 1941, 2653, 2935, 3568, 4161, 4758], \"sizemode\": \"area\", \"sizeref\": 11.895, \"symbol\": \"circle\"}, \"mode\": \"markers\", \"name\": \"state=New York\", \"showlegend\": true, \"type\": \"scatter\", \"x\": [\"2020-03-08T00:00:00\", \"2020-03-09T00:00:00\", \"2020-03-10T00:00:00\", \"2020-03-11T00:00:00\", \"2020-03-12T00:00:00\", \"2020-03-13T00:00:00\", \"2020-03-14T00:00:00\", \"2020-03-15T00:00:00\", \"2020-03-16T00:00:00\", \"2020-03-17T00:00:00\", \"2020-03-18T00:00:00\", \"2020-03-19T00:00:00\", \"2020-03-20T00:00:00\", \"2020-03-21T00:00:00\", \"2020-03-22T00:00:00\", \"2020-03-23T00:00:00\", \"2020-03-24T00:00:00\", \"2020-03-25T00:00:00\", \"2020-03-26T00:00:00\", \"2020-03-27T00:00:00\", \"2020-03-28T00:00:00\", \"2020-03-29T00:00:00\", \"2020-03-30T00:00:00\", \"2020-03-31T00:00:00\", \"2020-04-01T00:00:00\", \"2020-04-02T00:00:00\", \"2020-04-03T00:00:00\", \"2020-04-04T00:00:00\", \"2020-04-05T00:00:00\", \"2020-04-06T00:00:00\"], \"xaxis\": \"x7\", \"y\": [106, 142, 173, 217, 326, 421, 610, 732, 950, 1374, 2382, 4152, 7102, 10356, 15168, 20875, 25665, 33066, 38987, 44635, 53363, 59568, 67174, 75832, 83889, 92770, 102870, 114996, 122911, 130703], \"yaxis\": \"y7\"}, {\"hoverlabel\": {\"namelength\": 0}, \"hovertemplate\": \"state=California<br>x=%{x}<br>cases=%{y}<br>deaths=%{marker.size}\", \"legendgroup\": \"state=California\", \"marker\": {\"color\": \"#B6E880\", \"size\": [1, 2, 3, 4, 4, 5, 5, 6, 11, 14, 17, 19, 24, 28, 35, 39, 52, 67, 82, 102, 121, 130, 146, 183, 212, 247, 282, 323, 349, 386], \"sizemode\": \"area\", \"sizeref\": 11.895, \"symbol\": \"circle\"}, \"mode\": \"markers\", \"name\": \"state=California\", \"showlegend\": true, \"type\": \"scatter\", \"x\": [\"2020-03-08T00:00:00\", \"2020-03-09T00:00:00\", \"2020-03-10T00:00:00\", \"2020-03-11T00:00:00\", \"2020-03-12T00:00:00\", \"2020-03-13T00:00:00\", \"2020-03-14T00:00:00\", \"2020-03-15T00:00:00\", \"2020-03-16T00:00:00\", \"2020-03-17T00:00:00\", \"2020-03-18T00:00:00\", \"2020-03-19T00:00:00\", \"2020-03-20T00:00:00\", \"2020-03-21T00:00:00\", \"2020-03-22T00:00:00\", \"2020-03-23T00:00:00\", \"2020-03-24T00:00:00\", \"2020-03-25T00:00:00\", \"2020-03-26T00:00:00\", \"2020-03-27T00:00:00\", \"2020-03-28T00:00:00\", \"2020-03-29T00:00:00\", \"2020-03-30T00:00:00\", \"2020-03-31T00:00:00\", \"2020-04-01T00:00:00\", \"2020-04-02T00:00:00\", \"2020-04-03T00:00:00\", \"2020-04-04T00:00:00\", \"2020-04-05T00:00:00\", \"2020-04-06T00:00:00\"], \"xaxis\": \"x8\", \"y\": [112, 172, 179, 202, 252, 320, 381, 478, 588, 732, 893, 1067, 1283, 1544, 1851, 2240, 2644, 3183, 4060, 4914, 5565, 6266, 7421, 8582, 9816, 11190, 12569, 13796, 15076, 16284], \"yaxis\": \"y8\"}, {\"hoverlabel\": {\"namelength\": 0}, \"hovertemplate\": \"state=Florida<br>x=%{x}<br>cases=%{y}<br>deaths=%{marker.size}\", \"legendgroup\": \"state=Florida\", \"marker\": {\"color\": \"#FF97FF\", \"size\": [2, 2, 2, 2, 2, 2, 3, 3, 4, 6, 7, 8, 9, 11, 13, 18, 19, 23, 29, 46, 56, 59, 71, 85, 100, 144, 169, 194, 220, 253], \"sizemode\": \"area\", \"sizeref\": 11.895, \"symbol\": \"circle\"}, \"mode\": \"markers\", \"name\": \"state=Florida\", \"showlegend\": true, \"type\": \"scatter\", \"x\": [\"2020-03-08T00:00:00\", \"2020-03-09T00:00:00\", \"2020-03-10T00:00:00\", \"2020-03-11T00:00:00\", \"2020-03-12T00:00:00\", \"2020-03-13T00:00:00\", \"2020-03-14T00:00:00\", \"2020-03-15T00:00:00\", \"2020-03-16T00:00:00\", \"2020-03-17T00:00:00\", \"2020-03-18T00:00:00\", \"2020-03-19T00:00:00\", \"2020-03-20T00:00:00\", \"2020-03-21T00:00:00\", \"2020-03-22T00:00:00\", \"2020-03-23T00:00:00\", \"2020-03-24T00:00:00\", \"2020-03-25T00:00:00\", \"2020-03-26T00:00:00\", \"2020-03-27T00:00:00\", \"2020-03-28T00:00:00\", \"2020-03-29T00:00:00\", \"2020-03-30T00:00:00\", \"2020-03-31T00:00:00\", \"2020-04-01T00:00:00\", \"2020-04-02T00:00:00\", \"2020-04-03T00:00:00\", \"2020-04-04T00:00:00\", \"2020-04-05T00:00:00\", \"2020-04-06T00:00:00\"], \"xaxis\": \"x9\", \"y\": [13, 14, 23, 26, 46, 70, 70, 109, 141, 210, 326, 434, 564, 764, 1000, 1222, 1467, 1965, 2477, 3198, 4038, 4942, 5694, 6741, 7765, 9000, 10260, 11537, 12342, 13621], \"yaxis\": \"y9\"}, {\"hoverlabel\": {\"namelength\": 0}, \"hovertemplate\": \"state=Washington<br>x=%{x}<br>cases=%{y}<br>deaths=%{marker.size}\", \"legendgroup\": \"state=Washington\", \"marker\": {\"color\": \"#FECB52\", \"size\": [19, 22, 24, 29, 32, 37, 40, 42, 48, 54, 68, 75, 83, 95, 97, 110, 123, 130, 151, 177, 191, 207, 221, 226, 249, 272, 293, 318, 344, 383], \"sizemode\": \"area\", \"sizeref\": 11.895, \"symbol\": \"circle\"}, \"mode\": \"markers\", \"name\": \"state=Washington\", \"showlegend\": true, \"type\": \"scatter\", \"x\": [\"2020-03-08T00:00:00\", \"2020-03-09T00:00:00\", \"2020-03-10T00:00:00\", \"2020-03-11T00:00:00\", \"2020-03-12T00:00:00\", \"2020-03-13T00:00:00\", \"2020-03-14T00:00:00\", \"2020-03-15T00:00:00\", \"2020-03-16T00:00:00\", \"2020-03-17T00:00:00\", \"2020-03-18T00:00:00\", \"2020-03-19T00:00:00\", \"2020-03-20T00:00:00\", \"2020-03-21T00:00:00\", \"2020-03-22T00:00:00\", \"2020-03-23T00:00:00\", \"2020-03-24T00:00:00\", \"2020-03-25T00:00:00\", \"2020-03-26T00:00:00\", \"2020-03-27T00:00:00\", \"2020-03-28T00:00:00\", \"2020-03-29T00:00:00\", \"2020-03-30T00:00:00\", \"2020-03-31T00:00:00\", \"2020-04-01T00:00:00\", \"2020-04-02T00:00:00\", \"2020-04-03T00:00:00\", \"2020-04-04T00:00:00\", \"2020-04-05T00:00:00\", \"2020-04-06T00:00:00\"], \"xaxis\": \"x10\", \"y\": [141, 179, 279, 338, 419, 511, 609, 675, 794, 908, 1026, 1228, 1404, 1655, 1844, 2101, 2469, 2585, 3208, 3770, 4311, 4896, 5179, 5292, 5588, 6585, 6966, 7498, 7984, 8384], \"yaxis\": \"y10\"}],\n",
              "                        {\"annotations\": [{\"font\": {}, \"showarrow\": false, \"text\": \"state=Louisiana\", \"x\": 0.04100000000000001, \"xanchor\": \"center\", \"xref\": \"paper\", \"y\": 1.0, \"yanchor\": \"bottom\", \"yref\": \"paper\"}, {\"font\": {}, \"showarrow\": false, \"text\": \"state=Michigan\", \"x\": 0.14300000000000004, \"xanchor\": \"center\", \"xref\": \"paper\", \"y\": 1.0, \"yanchor\": \"bottom\", \"yref\": \"paper\"}, {\"font\": {}, \"showarrow\": false, \"text\": \"state=New Jersey\", \"x\": 0.24500000000000005, \"xanchor\": \"center\", \"xref\": \"paper\", \"y\": 1.0, \"yanchor\": \"bottom\", \"yref\": \"paper\"}, {\"font\": {}, \"showarrow\": false, \"text\": \"state=Illinois\", \"x\": 0.3470000000000001, \"xanchor\": \"center\", \"xref\": \"paper\", \"y\": 1.0, \"yanchor\": \"bottom\", \"yref\": \"paper\"}, {\"font\": {}, \"showarrow\": false, \"text\": \"state=Georgia\", \"x\": 0.44900000000000007, \"xanchor\": \"center\", \"xref\": \"paper\", \"y\": 1.0, \"yanchor\": \"bottom\", \"yref\": \"paper\"}, {\"font\": {}, \"showarrow\": false, \"text\": \"state=Massachusetts\", \"x\": 0.5510000000000002, \"xanchor\": \"center\", \"xref\": \"paper\", \"y\": 1.0, \"yanchor\": \"bottom\", \"yref\": \"paper\"}, {\"font\": {}, \"showarrow\": false, \"text\": \"state=New York\", \"x\": 0.6530000000000001, \"xanchor\": \"center\", \"xref\": \"paper\", \"y\": 1.0, \"yanchor\": \"bottom\", \"yref\": \"paper\"}, {\"font\": {}, \"showarrow\": false, \"text\": \"state=California\", \"x\": 0.7550000000000001, \"xanchor\": \"center\", \"xref\": \"paper\", \"y\": 1.0, \"yanchor\": \"bottom\", \"yref\": \"paper\"}, {\"font\": {}, \"showarrow\": false, \"text\": \"state=Florida\", \"x\": 0.8570000000000002, \"xanchor\": \"center\", \"xref\": \"paper\", \"y\": 1.0, \"yanchor\": \"bottom\", \"yref\": \"paper\"}, {\"font\": {}, \"showarrow\": false, \"text\": \"state=Washington\", \"x\": 0.9590000000000002, \"xanchor\": \"center\", \"xref\": \"paper\", \"y\": 1.0, \"yanchor\": \"bottom\", \"yref\": \"paper\"}], \"legend\": {\"itemsizing\": \"constant\", \"tracegroupgap\": 0}, \"margin\": {\"t\": 60}, \"template\": {\"data\": {\"bar\": [{\"error_x\": {\"color\": \"#2a3f5f\"}, \"error_y\": {\"color\": \"#2a3f5f\"}, \"marker\": {\"line\": {\"color\": \"#E5ECF6\", \"width\": 0.5}}, \"type\": \"bar\"}], \"barpolar\": [{\"marker\": {\"line\": {\"color\": \"#E5ECF6\", \"width\": 0.5}}, \"type\": \"barpolar\"}], \"carpet\": [{\"aaxis\": {\"endlinecolor\": \"#2a3f5f\", \"gridcolor\": \"white\", \"linecolor\": \"white\", \"minorgridcolor\": \"white\", \"startlinecolor\": \"#2a3f5f\"}, \"baxis\": {\"endlinecolor\": \"#2a3f5f\", \"gridcolor\": \"white\", \"linecolor\": \"white\", \"minorgridcolor\": \"white\", \"startlinecolor\": \"#2a3f5f\"}, \"type\": \"carpet\"}], \"choropleth\": [{\"colorbar\": {\"outlinewidth\": 0, \"ticks\": \"\"}, \"type\": \"choropleth\"}], \"contour\": [{\"colorbar\": {\"outlinewidth\": 0, \"ticks\": \"\"}, \"colorscale\": [[0.0, \"#0d0887\"], [0.1111111111111111, \"#46039f\"], [0.2222222222222222, \"#7201a8\"], [0.3333333333333333, \"#9c179e\"], [0.4444444444444444, \"#bd3786\"], [0.5555555555555556, \"#d8576b\"], [0.6666666666666666, \"#ed7953\"], [0.7777777777777778, \"#fb9f3a\"], [0.8888888888888888, \"#fdca26\"], [1.0, \"#f0f921\"]], \"type\": \"contour\"}], \"contourcarpet\": [{\"colorbar\": {\"outlinewidth\": 0, \"ticks\": \"\"}, \"type\": \"contourcarpet\"}], \"heatmap\": [{\"colorbar\": {\"outlinewidth\": 0, \"ticks\": \"\"}, \"colorscale\": [[0.0, \"#0d0887\"], [0.1111111111111111, \"#46039f\"], [0.2222222222222222, \"#7201a8\"], [0.3333333333333333, \"#9c179e\"], [0.4444444444444444, \"#bd3786\"], [0.5555555555555556, \"#d8576b\"], [0.6666666666666666, \"#ed7953\"], [0.7777777777777778, \"#fb9f3a\"], [0.8888888888888888, \"#fdca26\"], [1.0, \"#f0f921\"]], \"type\": \"heatmap\"}], \"heatmapgl\": [{\"colorbar\": {\"outlinewidth\": 0, \"ticks\": \"\"}, \"colorscale\": [[0.0, \"#0d0887\"], [0.1111111111111111, \"#46039f\"], [0.2222222222222222, \"#7201a8\"], [0.3333333333333333, \"#9c179e\"], [0.4444444444444444, \"#bd3786\"], [0.5555555555555556, \"#d8576b\"], [0.6666666666666666, \"#ed7953\"], [0.7777777777777778, \"#fb9f3a\"], [0.8888888888888888, \"#fdca26\"], [1.0, \"#f0f921\"]], \"type\": \"heatmapgl\"}], \"histogram\": [{\"marker\": {\"colorbar\": {\"outlinewidth\": 0, \"ticks\": \"\"}}, \"type\": \"histogram\"}], \"histogram2d\": [{\"colorbar\": {\"outlinewidth\": 0, \"ticks\": \"\"}, \"colorscale\": [[0.0, \"#0d0887\"], [0.1111111111111111, \"#46039f\"], [0.2222222222222222, \"#7201a8\"], [0.3333333333333333, \"#9c179e\"], [0.4444444444444444, \"#bd3786\"], [0.5555555555555556, \"#d8576b\"], [0.6666666666666666, \"#ed7953\"], [0.7777777777777778, \"#fb9f3a\"], [0.8888888888888888, \"#fdca26\"], [1.0, \"#f0f921\"]], \"type\": \"histogram2d\"}], \"histogram2dcontour\": [{\"colorbar\": {\"outlinewidth\": 0, \"ticks\": \"\"}, \"colorscale\": [[0.0, \"#0d0887\"], [0.1111111111111111, \"#46039f\"], [0.2222222222222222, \"#7201a8\"], [0.3333333333333333, \"#9c179e\"], [0.4444444444444444, \"#bd3786\"], [0.5555555555555556, \"#d8576b\"], [0.6666666666666666, \"#ed7953\"], [0.7777777777777778, \"#fb9f3a\"], [0.8888888888888888, \"#fdca26\"], [1.0, \"#f0f921\"]], \"type\": \"histogram2dcontour\"}], \"mesh3d\": [{\"colorbar\": {\"outlinewidth\": 0, \"ticks\": \"\"}, \"type\": \"mesh3d\"}], \"parcoords\": [{\"line\": {\"colorbar\": {\"outlinewidth\": 0, \"ticks\": \"\"}}, \"type\": \"parcoords\"}], \"pie\": [{\"automargin\": true, \"type\": \"pie\"}], \"scatter\": [{\"marker\": {\"colorbar\": {\"outlinewidth\": 0, \"ticks\": \"\"}}, \"type\": \"scatter\"}], \"scatter3d\": [{\"line\": {\"colorbar\": {\"outlinewidth\": 0, \"ticks\": \"\"}}, \"marker\": {\"colorbar\": {\"outlinewidth\": 0, \"ticks\": \"\"}}, \"type\": \"scatter3d\"}], \"scattercarpet\": [{\"marker\": {\"colorbar\": {\"outlinewidth\": 0, \"ticks\": \"\"}}, \"type\": \"scattercarpet\"}], \"scattergeo\": [{\"marker\": {\"colorbar\": {\"outlinewidth\": 0, \"ticks\": \"\"}}, \"type\": \"scattergeo\"}], \"scattergl\": [{\"marker\": {\"colorbar\": {\"outlinewidth\": 0, \"ticks\": \"\"}}, \"type\": \"scattergl\"}], \"scattermapbox\": [{\"marker\": {\"colorbar\": {\"outlinewidth\": 0, \"ticks\": \"\"}}, \"type\": \"scattermapbox\"}], \"scatterpolar\": [{\"marker\": {\"colorbar\": {\"outlinewidth\": 0, \"ticks\": \"\"}}, \"type\": \"scatterpolar\"}], \"scatterpolargl\": [{\"marker\": {\"colorbar\": {\"outlinewidth\": 0, \"ticks\": \"\"}}, \"type\": \"scatterpolargl\"}], \"scatterternary\": [{\"marker\": {\"colorbar\": {\"outlinewidth\": 0, \"ticks\": \"\"}}, \"type\": \"scatterternary\"}], \"surface\": [{\"colorbar\": {\"outlinewidth\": 0, \"ticks\": \"\"}, \"colorscale\": [[0.0, \"#0d0887\"], [0.1111111111111111, \"#46039f\"], [0.2222222222222222, \"#7201a8\"], [0.3333333333333333, \"#9c179e\"], [0.4444444444444444, \"#bd3786\"], [0.5555555555555556, \"#d8576b\"], [0.6666666666666666, \"#ed7953\"], [0.7777777777777778, \"#fb9f3a\"], [0.8888888888888888, \"#fdca26\"], [1.0, \"#f0f921\"]], \"type\": \"surface\"}], \"table\": [{\"cells\": {\"fill\": {\"color\": \"#EBF0F8\"}, \"line\": {\"color\": \"white\"}}, \"header\": {\"fill\": {\"color\": \"#C8D4E3\"}, \"line\": {\"color\": \"white\"}}, \"type\": \"table\"}]}, \"layout\": {\"annotationdefaults\": {\"arrowcolor\": \"#2a3f5f\", \"arrowhead\": 0, \"arrowwidth\": 1}, \"coloraxis\": {\"colorbar\": {\"outlinewidth\": 0, \"ticks\": \"\"}}, \"colorscale\": {\"diverging\": [[0, \"#8e0152\"], [0.1, \"#c51b7d\"], [0.2, \"#de77ae\"], [0.3, \"#f1b6da\"], [0.4, \"#fde0ef\"], [0.5, \"#f7f7f7\"], [0.6, \"#e6f5d0\"], [0.7, \"#b8e186\"], [0.8, \"#7fbc41\"], [0.9, \"#4d9221\"], [1, \"#276419\"]], \"sequential\": [[0.0, \"#0d0887\"], [0.1111111111111111, \"#46039f\"], [0.2222222222222222, \"#7201a8\"], [0.3333333333333333, \"#9c179e\"], [0.4444444444444444, \"#bd3786\"], [0.5555555555555556, \"#d8576b\"], [0.6666666666666666, \"#ed7953\"], [0.7777777777777778, \"#fb9f3a\"], [0.8888888888888888, \"#fdca26\"], [1.0, \"#f0f921\"]], \"sequentialminus\": [[0.0, \"#0d0887\"], [0.1111111111111111, \"#46039f\"], [0.2222222222222222, \"#7201a8\"], [0.3333333333333333, \"#9c179e\"], [0.4444444444444444, \"#bd3786\"], [0.5555555555555556, \"#d8576b\"], [0.6666666666666666, \"#ed7953\"], [0.7777777777777778, \"#fb9f3a\"], [0.8888888888888888, \"#fdca26\"], [1.0, \"#f0f921\"]]}, \"colorway\": [\"#636efa\", \"#EF553B\", \"#00cc96\", \"#ab63fa\", \"#FFA15A\", \"#19d3f3\", \"#FF6692\", \"#B6E880\", \"#FF97FF\", \"#FECB52\"], \"font\": {\"color\": \"#2a3f5f\"}, \"geo\": {\"bgcolor\": \"white\", \"lakecolor\": \"white\", \"landcolor\": \"#E5ECF6\", \"showlakes\": true, \"showland\": true, \"subunitcolor\": \"white\"}, \"hoverlabel\": {\"align\": \"left\"}, \"hovermode\": \"closest\", \"mapbox\": {\"style\": \"light\"}, \"paper_bgcolor\": \"white\", \"plot_bgcolor\": \"#E5ECF6\", \"polar\": {\"angularaxis\": {\"gridcolor\": \"white\", \"linecolor\": \"white\", \"ticks\": \"\"}, \"bgcolor\": \"#E5ECF6\", \"radialaxis\": {\"gridcolor\": \"white\", \"linecolor\": \"white\", \"ticks\": \"\"}}, \"scene\": {\"xaxis\": {\"backgroundcolor\": \"#E5ECF6\", \"gridcolor\": \"white\", \"gridwidth\": 2, \"linecolor\": \"white\", \"showbackground\": true, \"ticks\": \"\", \"zerolinecolor\": \"white\"}, \"yaxis\": {\"backgroundcolor\": \"#E5ECF6\", \"gridcolor\": \"white\", \"gridwidth\": 2, \"linecolor\": \"white\", \"showbackground\": true, \"ticks\": \"\", \"zerolinecolor\": \"white\"}, \"zaxis\": {\"backgroundcolor\": \"#E5ECF6\", \"gridcolor\": \"white\", \"gridwidth\": 2, \"linecolor\": \"white\", \"showbackground\": true, \"ticks\": \"\", \"zerolinecolor\": \"white\"}}, \"shapedefaults\": {\"line\": {\"color\": \"#2a3f5f\"}}, \"ternary\": {\"aaxis\": {\"gridcolor\": \"white\", \"linecolor\": \"white\", \"ticks\": \"\"}, \"baxis\": {\"gridcolor\": \"white\", \"linecolor\": \"white\", \"ticks\": \"\"}, \"bgcolor\": \"#E5ECF6\", \"caxis\": {\"gridcolor\": \"white\", \"linecolor\": \"white\", \"ticks\": \"\"}}, \"title\": {\"x\": 0.05}, \"xaxis\": {\"automargin\": true, \"gridcolor\": \"white\", \"linecolor\": \"white\", \"ticks\": \"\", \"title\": {\"standoff\": 15}, \"zerolinecolor\": \"white\", \"zerolinewidth\": 2}, \"yaxis\": {\"automargin\": true, \"gridcolor\": \"white\", \"linecolor\": \"white\", \"ticks\": \"\", \"title\": {\"standoff\": 15}, \"zerolinecolor\": \"white\", \"zerolinewidth\": 2}}}, \"xaxis\": {\"anchor\": \"y\", \"domain\": [0.0, 0.08200000000000002], \"title\": {\"text\": \"x\"}}, \"xaxis10\": {\"anchor\": \"y10\", \"domain\": [0.9180000000000001, 1.0], \"matches\": \"x\", \"title\": {\"text\": \"x\"}}, \"xaxis2\": {\"anchor\": \"y2\", \"domain\": [0.10200000000000002, 0.18400000000000005], \"matches\": \"x\", \"title\": {\"text\": \"x\"}}, \"xaxis3\": {\"anchor\": \"y3\", \"domain\": [0.20400000000000004, 0.28600000000000003], \"matches\": \"x\", \"title\": {\"text\": \"x\"}}, \"xaxis4\": {\"anchor\": \"y4\", \"domain\": [0.30600000000000005, 0.38800000000000007], \"matches\": \"x\", \"title\": {\"text\": \"x\"}}, \"xaxis5\": {\"anchor\": \"y5\", \"domain\": [0.4080000000000001, 0.4900000000000001], \"matches\": \"x\", \"title\": {\"text\": \"x\"}}, \"xaxis6\": {\"anchor\": \"y6\", \"domain\": [0.5100000000000001, 0.5920000000000001], \"matches\": \"x\", \"title\": {\"text\": \"x\"}}, \"xaxis7\": {\"anchor\": \"y7\", \"domain\": [0.6120000000000001, 0.6940000000000002], \"matches\": \"x\", \"title\": {\"text\": \"x\"}}, \"xaxis8\": {\"anchor\": \"y8\", \"domain\": [0.7140000000000001, 0.796], \"matches\": \"x\", \"title\": {\"text\": \"x\"}}, \"xaxis9\": {\"anchor\": \"y9\", \"domain\": [0.8160000000000002, 0.8980000000000001], \"matches\": \"x\", \"title\": {\"text\": \"x\"}}, \"yaxis\": {\"anchor\": \"x\", \"domain\": [0.0, 1.0], \"title\": {\"text\": \"cases\"}}, \"yaxis10\": {\"anchor\": \"x10\", \"domain\": [0.0, 1.0], \"matches\": \"y\", \"showticklabels\": false}, \"yaxis2\": {\"anchor\": \"x2\", \"domain\": [0.0, 1.0], \"matches\": \"y\", \"showticklabels\": false}, \"yaxis3\": {\"anchor\": \"x3\", \"domain\": [0.0, 1.0], \"matches\": \"y\", \"showticklabels\": false}, \"yaxis4\": {\"anchor\": \"x4\", \"domain\": [0.0, 1.0], \"matches\": \"y\", \"showticklabels\": false}, \"yaxis5\": {\"anchor\": \"x5\", \"domain\": [0.0, 1.0], \"matches\": \"y\", \"showticklabels\": false}, \"yaxis6\": {\"anchor\": \"x6\", \"domain\": [0.0, 1.0], \"matches\": \"y\", \"showticklabels\": false}, \"yaxis7\": {\"anchor\": \"x7\", \"domain\": [0.0, 1.0], \"matches\": \"y\", \"showticklabels\": false}, \"yaxis8\": {\"anchor\": \"x8\", \"domain\": [0.0, 1.0], \"matches\": \"y\", \"showticklabels\": false}, \"yaxis9\": {\"anchor\": \"x9\", \"domain\": [0.0, 1.0], \"matches\": \"y\", \"showticklabels\": false}},\n",
              "                        {\"responsive\": true}\n",
              "                    ).then(function(){\n",
              "                            \n",
              "var gd = document.getElementById('c51066d6-e2d7-4453-acda-7a91efe401c8');\n",
              "var x = new MutationObserver(function (mutations, observer) {{\n",
              "        var display = window.getComputedStyle(gd).display;\n",
              "        if (!display || display === 'none') {{\n",
              "            console.log([gd, 'removed!']);\n",
              "            Plotly.purge(gd);\n",
              "            observer.disconnect();\n",
              "        }}\n",
              "}});\n",
              "\n",
              "// Listen for the removal of the full notebook cells\n",
              "var notebookContainer = gd.closest('#notebook-container');\n",
              "if (notebookContainer) {{\n",
              "    x.observe(notebookContainer, {childList: true});\n",
              "}}\n",
              "\n",
              "// Listen for the clearing of the current output cell\n",
              "var outputEl = gd.closest('.output');\n",
              "if (outputEl) {{\n",
              "    x.observe(outputEl, {childList: true});\n",
              "}}\n",
              "\n",
              "                        })\n",
              "                };\n",
              "                \n",
              "            </script>\n",
              "        </div>\n",
              "</body>\n",
              "</html>"
            ]
          },
          "metadata": {
            "tags": []
          }
        }
>>>>>>> 6732020aa24fa62b4c396bbb8c7bf5f85786e657
      ]
    },
    {
      "cell_type": "markdown",
      "metadata": {
        "id": "rN0jv8_3mD-z"
      },
      "source": [
        "### Search for Features:  Political, Health and Finance"
      ]
    },
    {
      "cell_type": "markdown",
      "metadata": {
        "id": "4VLRtEYvBtoR"
      },
      "source": [
        "*Sugar Intake By State*"
      ]
    },
    {
      "cell_type": "code",
<<<<<<< HEAD
      "execution_count": 23,
      "metadata": {
        "colab": {
          "base_uri": "https://localhost:8080/",
          "height": 202
        },
        "id": "nnLcHUUUBwzD",
        "outputId": "0351e944-96b5-4ac5-cd76-81fb2752fbdb"
      },
      "outputs": [],
      "source": [
        "# cdc_2013 = pd.read_csv(\"education_sugar_cdc_2003.csv\")\n",
        "# cdc_2013.set_index(\"State\", inplace=True)\n",
        "# for column in cdc_2013.columns:\n",
        "#   cdc_2013[column]=cdc_2013[column].str.replace(r\"\\(.*\\)\",\"\")\n",
        "#   cdc_2013[column]=pd.to_numeric(cdc_2013[column])\n",
        "\n",
        "# cdc_2013.reset_index(inplace=True)\n",
        "# cdc_2013.rename(columns={\"State\": \"state\", \"Employed\": \"employed-sugar-intake-daily\"},inplace=True)\n",
        "# cdc_2013.head()"
=======
      "metadata": {
        "id": "nnLcHUUUBwzD",
        "outputId": "0351e944-96b5-4ac5-cd76-81fb2752fbdb",
        "colab": {
          "base_uri": "https://localhost:8080/",
          "height": 202
        }
      },
      "source": [
        "cdc_2013 = pd.read_csv(\"https://raw.githubusercontent.com/noahgift/sugar/master/data/education_sugar_cdc_2003.csv\")\n",
        "cdc_2013.set_index(\"State\", inplace=True)\n",
        "for column in cdc_2013.columns:\n",
        "  cdc_2013[column]=cdc_2013[column].str.replace(r\"\\(.*\\)\",\"\")\n",
        "  cdc_2013[column]=pd.to_numeric(cdc_2013[column])\n",
        "\n",
        "cdc_2013.reset_index(inplace=True)\n",
        "cdc_2013.rename(columns={\"State\": \"state\", \"Employed\": \"employed-sugar-intake-daily\"},inplace=True)\n",
        "cdc_2013.head()"
      ],
      "execution_count": null,
      "outputs": [
        {
          "output_type": "execute_result",
          "data": {
            "text/html": [
              "<div>\n",
              "<style scoped>\n",
              "    .dataframe tbody tr th:only-of-type {\n",
              "        vertical-align: middle;\n",
              "    }\n",
              "\n",
              "    .dataframe tbody tr th {\n",
              "        vertical-align: top;\n",
              "    }\n",
              "\n",
              "    .dataframe thead th {\n",
              "        text-align: right;\n",
              "    }\n",
              "</style>\n",
              "<table border=\"1\" class=\"dataframe\">\n",
              "  <thead>\n",
              "    <tr style=\"text-align: right;\">\n",
              "      <th></th>\n",
              "      <th>state</th>\n",
              "      <th>employed-sugar-intake-daily</th>\n",
              "      <th>Not employed</th>\n",
              "      <th>Retired</th>\n",
              "      <th>&lt;High school</th>\n",
              "      <th>High school</th>\n",
              "      <th>Some college</th>\n",
              "      <th>College graduate</th>\n",
              "    </tr>\n",
              "  </thead>\n",
              "  <tbody>\n",
              "    <tr>\n",
              "      <th>0</th>\n",
              "      <td>Alaska</td>\n",
              "      <td>26.2</td>\n",
              "      <td>32.1</td>\n",
              "      <td>16.0</td>\n",
              "      <td>47.1</td>\n",
              "      <td>34.9</td>\n",
              "      <td>24.2</td>\n",
              "      <td>12.9</td>\n",
              "    </tr>\n",
              "    <tr>\n",
              "      <th>1</th>\n",
              "      <td>Arizona</td>\n",
              "      <td>33.0</td>\n",
              "      <td>28.7</td>\n",
              "      <td>13.8</td>\n",
              "      <td>40.4</td>\n",
              "      <td>36.5</td>\n",
              "      <td>24.4</td>\n",
              "      <td>14.6</td>\n",
              "    </tr>\n",
              "    <tr>\n",
              "      <th>2</th>\n",
              "      <td>California</td>\n",
              "      <td>22.9</td>\n",
              "      <td>30.2</td>\n",
              "      <td>15.0</td>\n",
              "      <td>38.5</td>\n",
              "      <td>29.9</td>\n",
              "      <td>21.4</td>\n",
              "      <td>11.5</td>\n",
              "    </tr>\n",
              "    <tr>\n",
              "      <th>3</th>\n",
              "      <td>Connecticut</td>\n",
              "      <td>18.9</td>\n",
              "      <td>24.3</td>\n",
              "      <td>15.0</td>\n",
              "      <td>27.8</td>\n",
              "      <td>26.9</td>\n",
              "      <td>19.9</td>\n",
              "      <td>10.2</td>\n",
              "    </tr>\n",
              "    <tr>\n",
              "      <th>4</th>\n",
              "      <td>District of Columbia</td>\n",
              "      <td>18.5</td>\n",
              "      <td>34.6</td>\n",
              "      <td>18.5</td>\n",
              "      <td>45.6</td>\n",
              "      <td>39.0</td>\n",
              "      <td>28.9</td>\n",
              "      <td>8.4</td>\n",
              "    </tr>\n",
              "  </tbody>\n",
              "</table>\n",
              "</div>"
            ],
            "text/plain": [
              "                  state  ...  College graduate\n",
              "0                Alaska  ...              12.9\n",
              "1               Arizona  ...              14.6\n",
              "2            California  ...              11.5\n",
              "3           Connecticut  ...              10.2\n",
              "4  District of Columbia  ...               8.4\n",
              "\n",
              "[5 rows x 8 columns]"
            ]
          },
          "metadata": {
            "tags": []
          },
          "execution_count": 45
        }
>>>>>>> 6732020aa24fa62b4c396bbb8c7bf5f85786e657
      ]
    },
    {
      "cell_type": "markdown",
      "metadata": {
        "id": "BT7YQzUcCRSn"
      },
      "source": [
        "*Combine Sugar Data and Covid-19 Data*"
      ]
    },
    {
      "cell_type": "code",
<<<<<<< HEAD
      "execution_count": 24,
      "metadata": {
        "colab": {
          "base_uri": "https://localhost:8080/",
          "height": 202
        },
        "id": "mxZ76ZI8EDQ2",
        "outputId": "0f04c9ce-bae4-43eb-c1a6-b3aef97e4bd1"
      },
      "outputs": [],
      "source": [
        "# cdc_employed_df = cdc_2013[[\"employed-sugar-intake-daily\", \"state\"]]\n",
        "# sugar_covid_df = df.merge(cdc_employed_df, how=\"inner\", on=\"state\")\n",
        "# sugar_covid_df.head()"
=======
      "metadata": {
        "outputId": "0f04c9ce-bae4-43eb-c1a6-b3aef97e4bd1",
        "id": "mxZ76ZI8EDQ2",
        "colab": {
          "base_uri": "https://localhost:8080/",
          "height": 202
        }
      },
      "source": [
        "cdc_employed_df = cdc_2013[[\"employed-sugar-intake-daily\", \"state\"]]\n",
        "sugar_covid_df = df.merge(cdc_employed_df, how=\"inner\", on=\"state\")\n",
        "sugar_covid_df.head()"
      ],
      "execution_count": null,
      "outputs": [
        {
          "output_type": "execute_result",
          "data": {
            "text/html": [
              "<div>\n",
              "<style scoped>\n",
              "    .dataframe tbody tr th:only-of-type {\n",
              "        vertical-align: middle;\n",
              "    }\n",
              "\n",
              "    .dataframe tbody tr th {\n",
              "        vertical-align: top;\n",
              "    }\n",
              "\n",
              "    .dataframe thead th {\n",
              "        text-align: right;\n",
              "    }\n",
              "</style>\n",
              "<table border=\"1\" class=\"dataframe\">\n",
              "  <thead>\n",
              "    <tr style=\"text-align: right;\">\n",
              "      <th></th>\n",
              "      <th>state</th>\n",
              "      <th>fips</th>\n",
              "      <th>cases</th>\n",
              "      <th>deaths</th>\n",
              "      <th>employed-sugar-intake-daily</th>\n",
              "    </tr>\n",
              "  </thead>\n",
              "  <tbody>\n",
              "    <tr>\n",
              "      <th>0</th>\n",
              "      <td>California</td>\n",
              "      <td>6</td>\n",
              "      <td>1</td>\n",
              "      <td>0</td>\n",
              "      <td>22.9</td>\n",
              "    </tr>\n",
              "    <tr>\n",
              "      <th>1</th>\n",
              "      <td>California</td>\n",
              "      <td>6</td>\n",
              "      <td>2</td>\n",
              "      <td>0</td>\n",
              "      <td>22.9</td>\n",
              "    </tr>\n",
              "    <tr>\n",
              "      <th>2</th>\n",
              "      <td>California</td>\n",
              "      <td>6</td>\n",
              "      <td>2</td>\n",
              "      <td>0</td>\n",
              "      <td>22.9</td>\n",
              "    </tr>\n",
              "    <tr>\n",
              "      <th>3</th>\n",
              "      <td>California</td>\n",
              "      <td>6</td>\n",
              "      <td>2</td>\n",
              "      <td>0</td>\n",
              "      <td>22.9</td>\n",
              "    </tr>\n",
              "    <tr>\n",
              "      <th>4</th>\n",
              "      <td>California</td>\n",
              "      <td>6</td>\n",
              "      <td>2</td>\n",
              "      <td>0</td>\n",
              "      <td>22.9</td>\n",
              "    </tr>\n",
              "  </tbody>\n",
              "</table>\n",
              "</div>"
            ],
            "text/plain": [
              "        state  fips  cases  deaths  employed-sugar-intake-daily\n",
              "0  California     6      1       0                         22.9\n",
              "1  California     6      2       0                         22.9\n",
              "2  California     6      2       0                         22.9\n",
              "3  California     6      2       0                         22.9\n",
              "4  California     6      2       0                         22.9"
            ]
          },
          "metadata": {
            "tags": []
          },
          "execution_count": 46
        }
>>>>>>> 6732020aa24fa62b4c396bbb8c7bf5f85786e657
      ]
    },
    {
      "cell_type": "markdown",
      "metadata": {
        "id": "9syyMOxhTHMo"
      },
      "source": [
        "*What about data from the 2016 Election?*"
      ]
    },
    {
      "cell_type": "code",
<<<<<<< HEAD
      "execution_count": 26,
      "metadata": {
        "colab": {
          "base_uri": "https://localhost:8080/",
          "height": 202
        },
        "id": "2RZa-tDmTPXP",
        "outputId": "e06bc642-feb3-480b-a3b4-0704e2ae8b03"
      },
      "outputs": [],
      "source": [
        "# election_df = pd.read_csv(\"2016-Electoral-Votes.csv\")\n",
        "# election_df.rename(columns={\"State\": \"state\"},inplace=True)\n",
        "# election_df.drop(columns=\"Votes\", inplace=True)\n",
        "# election_df = pd.concat([election_df, pd.get_dummies(election_df[\"Winning Party\"])], axis=1);\n",
        "# election_df.head()\n",
        "# #election_df[\"Republican?\"] = pd.get_dummies(election_df, columns=[\"Winning Party\"])\n",
        "# #election_df.head()"
=======
      "metadata": {
        "id": "2RZa-tDmTPXP",
        "outputId": "e06bc642-feb3-480b-a3b4-0704e2ae8b03",
        "colab": {
          "base_uri": "https://localhost:8080/",
          "height": 202
        }
      },
      "source": [
        "election_df = pd.read_csv(\"https://raw.githubusercontent.com/paiml/minimal-python/master/data/2016-Electoral-Votes.csv\")\n",
        "election_df.rename(columns={\"State\": \"state\"},inplace=True)\n",
        "election_df.drop(columns=\"Votes\", inplace=True)\n",
        "election_df = pd.concat([election_df, pd.get_dummies(election_df[\"Winning Party\"])], axis=1);\n",
        "election_df.head()\n",
        "#election_df[\"Republican?\"] = pd.get_dummies(election_df, columns=[\"Winning Party\"])\n",
        "#election_df.head()"
      ],
      "execution_count": null,
      "outputs": [
        {
          "output_type": "execute_result",
          "data": {
            "text/html": [
              "<div>\n",
              "<style scoped>\n",
              "    .dataframe tbody tr th:only-of-type {\n",
              "        vertical-align: middle;\n",
              "    }\n",
              "\n",
              "    .dataframe tbody tr th {\n",
              "        vertical-align: top;\n",
              "    }\n",
              "\n",
              "    .dataframe thead th {\n",
              "        text-align: right;\n",
              "    }\n",
              "</style>\n",
              "<table border=\"1\" class=\"dataframe\">\n",
              "  <thead>\n",
              "    <tr style=\"text-align: right;\">\n",
              "      <th></th>\n",
              "      <th>state</th>\n",
              "      <th>Winning Party</th>\n",
              "      <th>Democrats</th>\n",
              "      <th>Republicans</th>\n",
              "    </tr>\n",
              "  </thead>\n",
              "  <tbody>\n",
              "    <tr>\n",
              "      <th>0</th>\n",
              "      <td>Alabama</td>\n",
              "      <td>Republicans</td>\n",
              "      <td>0</td>\n",
              "      <td>1</td>\n",
              "    </tr>\n",
              "    <tr>\n",
              "      <th>1</th>\n",
              "      <td>Alaska</td>\n",
              "      <td>Republicans</td>\n",
              "      <td>0</td>\n",
              "      <td>1</td>\n",
              "    </tr>\n",
              "    <tr>\n",
              "      <th>2</th>\n",
              "      <td>Arizona</td>\n",
              "      <td>Republicans</td>\n",
              "      <td>0</td>\n",
              "      <td>1</td>\n",
              "    </tr>\n",
              "    <tr>\n",
              "      <th>3</th>\n",
              "      <td>Arkansas</td>\n",
              "      <td>Republicans</td>\n",
              "      <td>0</td>\n",
              "      <td>1</td>\n",
              "    </tr>\n",
              "    <tr>\n",
              "      <th>4</th>\n",
              "      <td>California</td>\n",
              "      <td>Democrats</td>\n",
              "      <td>1</td>\n",
              "      <td>0</td>\n",
              "    </tr>\n",
              "  </tbody>\n",
              "</table>\n",
              "</div>"
            ],
            "text/plain": [
              "        state Winning Party  Democrats  Republicans\n",
              "0     Alabama   Republicans          0            1\n",
              "1      Alaska   Republicans          0            1\n",
              "2     Arizona   Republicans          0            1\n",
              "3    Arkansas   Republicans          0            1\n",
              "4  California     Democrats          1            0"
            ]
          },
          "metadata": {
            "tags": []
          },
          "execution_count": 47
        }
>>>>>>> 6732020aa24fa62b4c396bbb8c7bf5f85786e657
      ]
    },
    {
      "cell_type": "code",
<<<<<<< HEAD
      "execution_count": 27,
      "metadata": {
        "colab": {
          "base_uri": "https://localhost:8080/",
          "height": 202
        },
        "id": "c6CuViW_V2Hx",
        "outputId": "76ec7320-9f60-495c-9f7a-cce61c8e2d59"
      },
      "outputs": [],
      "source": [
        "# sugar_covid_df = sugar_covid_df.merge(election_df, how=\"inner\", on=\"state\")\n",
        "# sugar_covid_df.head()"
=======
      "metadata": {
        "id": "c6CuViW_V2Hx",
        "outputId": "76ec7320-9f60-495c-9f7a-cce61c8e2d59",
        "colab": {
          "base_uri": "https://localhost:8080/",
          "height": 202
        }
      },
      "source": [
        "sugar_covid_df = sugar_covid_df.merge(election_df, how=\"inner\", on=\"state\")\n",
        "sugar_covid_df.head()"
      ],
      "execution_count": null,
      "outputs": [
        {
          "output_type": "execute_result",
          "data": {
            "text/html": [
              "<div>\n",
              "<style scoped>\n",
              "    .dataframe tbody tr th:only-of-type {\n",
              "        vertical-align: middle;\n",
              "    }\n",
              "\n",
              "    .dataframe tbody tr th {\n",
              "        vertical-align: top;\n",
              "    }\n",
              "\n",
              "    .dataframe thead th {\n",
              "        text-align: right;\n",
              "    }\n",
              "</style>\n",
              "<table border=\"1\" class=\"dataframe\">\n",
              "  <thead>\n",
              "    <tr style=\"text-align: right;\">\n",
              "      <th></th>\n",
              "      <th>state</th>\n",
              "      <th>fips</th>\n",
              "      <th>cases</th>\n",
              "      <th>deaths</th>\n",
              "      <th>employed-sugar-intake-daily</th>\n",
              "      <th>Winning Party</th>\n",
              "      <th>Democrats</th>\n",
              "      <th>Republicans</th>\n",
              "    </tr>\n",
              "  </thead>\n",
              "  <tbody>\n",
              "    <tr>\n",
              "      <th>0</th>\n",
              "      <td>California</td>\n",
              "      <td>6</td>\n",
              "      <td>1</td>\n",
              "      <td>0</td>\n",
              "      <td>22.9</td>\n",
              "      <td>Democrats</td>\n",
              "      <td>1</td>\n",
              "      <td>0</td>\n",
              "    </tr>\n",
              "    <tr>\n",
              "      <th>1</th>\n",
              "      <td>California</td>\n",
              "      <td>6</td>\n",
              "      <td>2</td>\n",
              "      <td>0</td>\n",
              "      <td>22.9</td>\n",
              "      <td>Democrats</td>\n",
              "      <td>1</td>\n",
              "      <td>0</td>\n",
              "    </tr>\n",
              "    <tr>\n",
              "      <th>2</th>\n",
              "      <td>California</td>\n",
              "      <td>6</td>\n",
              "      <td>2</td>\n",
              "      <td>0</td>\n",
              "      <td>22.9</td>\n",
              "      <td>Democrats</td>\n",
              "      <td>1</td>\n",
              "      <td>0</td>\n",
              "    </tr>\n",
              "    <tr>\n",
              "      <th>3</th>\n",
              "      <td>California</td>\n",
              "      <td>6</td>\n",
              "      <td>2</td>\n",
              "      <td>0</td>\n",
              "      <td>22.9</td>\n",
              "      <td>Democrats</td>\n",
              "      <td>1</td>\n",
              "      <td>0</td>\n",
              "    </tr>\n",
              "    <tr>\n",
              "      <th>4</th>\n",
              "      <td>California</td>\n",
              "      <td>6</td>\n",
              "      <td>2</td>\n",
              "      <td>0</td>\n",
              "      <td>22.9</td>\n",
              "      <td>Democrats</td>\n",
              "      <td>1</td>\n",
              "      <td>0</td>\n",
              "    </tr>\n",
              "  </tbody>\n",
              "</table>\n",
              "</div>"
            ],
            "text/plain": [
              "        state  fips  cases  ...  Winning Party  Democrats Republicans\n",
              "0  California     6      1  ...      Democrats          1           0\n",
              "1  California     6      2  ...      Democrats          1           0\n",
              "2  California     6      2  ...      Democrats          1           0\n",
              "3  California     6      2  ...      Democrats          1           0\n",
              "4  California     6      2  ...      Democrats          1           0\n",
              "\n",
              "[5 rows x 8 columns]"
            ]
          },
          "metadata": {
            "tags": []
          },
          "execution_count": 48
        }
>>>>>>> 6732020aa24fa62b4c396bbb8c7bf5f85786e657
      ]
    },
    {
      "cell_type": "markdown",
      "metadata": {
        "id": "RmBJqPnXE5wR"
      },
      "source": [
        "*Generate Heatmap*"
      ]
    },
    {
      "cell_type": "code",
<<<<<<< HEAD
      "execution_count": 28,
      "metadata": {
        "colab": {
          "base_uri": "https://localhost:8080/",
          "height": 233
        },
        "id": "cee_tCSBGdEM",
        "outputId": "f74e0e33-66cb-4051-c208-699aa539517b"
      },
      "outputs": [],
      "source": [
        "# sugar_covid_df.corr()"
=======
      "metadata": {
        "id": "cee_tCSBGdEM",
        "outputId": "f74e0e33-66cb-4051-c208-699aa539517b",
        "colab": {
          "base_uri": "https://localhost:8080/",
          "height": 233
        }
      },
      "source": [
        "sugar_covid_df.corr()"
      ],
      "execution_count": null,
      "outputs": [
        {
          "output_type": "execute_result",
          "data": {
            "text/html": [
              "<div>\n",
              "<style scoped>\n",
              "    .dataframe tbody tr th:only-of-type {\n",
              "        vertical-align: middle;\n",
              "    }\n",
              "\n",
              "    .dataframe tbody tr th {\n",
              "        vertical-align: top;\n",
              "    }\n",
              "\n",
              "    .dataframe thead th {\n",
              "        text-align: right;\n",
              "    }\n",
              "</style>\n",
              "<table border=\"1\" class=\"dataframe\">\n",
              "  <thead>\n",
              "    <tr style=\"text-align: right;\">\n",
              "      <th></th>\n",
              "      <th>fips</th>\n",
              "      <th>cases</th>\n",
              "      <th>deaths</th>\n",
              "      <th>employed-sugar-intake-daily</th>\n",
              "      <th>Democrats</th>\n",
              "      <th>Republicans</th>\n",
              "    </tr>\n",
              "  </thead>\n",
              "  <tbody>\n",
              "    <tr>\n",
              "      <th>fips</th>\n",
              "      <td>1.000000</td>\n",
              "      <td>0.053269</td>\n",
              "      <td>0.042491</td>\n",
              "      <td>0.231301</td>\n",
              "      <td>-0.228550</td>\n",
              "      <td>0.228550</td>\n",
              "    </tr>\n",
              "    <tr>\n",
              "      <th>cases</th>\n",
              "      <td>0.053269</td>\n",
              "      <td>1.000000</td>\n",
              "      <td>0.961783</td>\n",
              "      <td>-0.148097</td>\n",
              "      <td>0.221247</td>\n",
              "      <td>-0.221247</td>\n",
              "    </tr>\n",
              "    <tr>\n",
              "      <th>deaths</th>\n",
              "      <td>0.042491</td>\n",
              "      <td>0.961783</td>\n",
              "      <td>1.000000</td>\n",
              "      <td>-0.119988</td>\n",
              "      <td>0.178478</td>\n",
              "      <td>-0.178478</td>\n",
              "    </tr>\n",
              "    <tr>\n",
              "      <th>employed-sugar-intake-daily</th>\n",
              "      <td>0.231301</td>\n",
              "      <td>-0.148097</td>\n",
              "      <td>-0.119988</td>\n",
              "      <td>1.000000</td>\n",
              "      <td>-0.761812</td>\n",
              "      <td>0.761812</td>\n",
              "    </tr>\n",
              "    <tr>\n",
              "      <th>Democrats</th>\n",
              "      <td>-0.228550</td>\n",
              "      <td>0.221247</td>\n",
              "      <td>0.178478</td>\n",
              "      <td>-0.761812</td>\n",
              "      <td>1.000000</td>\n",
              "      <td>-1.000000</td>\n",
              "    </tr>\n",
              "    <tr>\n",
              "      <th>Republicans</th>\n",
              "      <td>0.228550</td>\n",
              "      <td>-0.221247</td>\n",
              "      <td>-0.178478</td>\n",
              "      <td>0.761812</td>\n",
              "      <td>-1.000000</td>\n",
              "      <td>1.000000</td>\n",
              "    </tr>\n",
              "  </tbody>\n",
              "</table>\n",
              "</div>"
            ],
            "text/plain": [
              "                                 fips     cases  ...  Democrats  Republicans\n",
              "fips                         1.000000  0.053269  ...  -0.228550     0.228550\n",
              "cases                        0.053269  1.000000  ...   0.221247    -0.221247\n",
              "deaths                       0.042491  0.961783  ...   0.178478    -0.178478\n",
              "employed-sugar-intake-daily  0.231301 -0.148097  ...  -0.761812     0.761812\n",
              "Democrats                   -0.228550  0.221247  ...   1.000000    -1.000000\n",
              "Republicans                  0.228550 -0.221247  ...  -1.000000     1.000000\n",
              "\n",
              "[6 rows x 6 columns]"
            ]
          },
          "metadata": {
            "tags": []
          },
          "execution_count": 49
        }
>>>>>>> 6732020aa24fa62b4c396bbb8c7bf5f85786e657
      ]
    },
    {
      "cell_type": "code",
<<<<<<< HEAD
      "execution_count": 29,
      "metadata": {
        "colab": {
          "base_uri": "https://localhost:8080/",
          "height": 542
        },
        "id": "u6wVCIMIE74B",
        "outputId": "737a17b3-9160-40be-efd6-80ed03c9b12b"
      },
      "outputs": [],
      "source": [
        "# import plotly.graph_objects as go\n",
        "\n",
        "# fig = go.Figure(data=go.Heatmap(\n",
        "#                    z=sugar_covid_df.corr(),\n",
        "#                    x=['fips','cases', 'deaths', 'employed-sugar-intake-daily', 'Democrats', 'Republicans'],\n",
        "#                    y=['fips','cases', 'deaths', 'employed-sugar-intake-daily', 'Democrats', 'Republicans'],\n",
        "#                    hoverongaps = False))\n",
        "# fig.show()"
=======
      "metadata": {
        "id": "u6wVCIMIE74B",
        "outputId": "737a17b3-9160-40be-efd6-80ed03c9b12b",
        "colab": {
          "base_uri": "https://localhost:8080/",
          "height": 542
        }
      },
      "source": [
        "import plotly.graph_objects as go\n",
        "\n",
        "fig = go.Figure(data=go.Heatmap(\n",
        "                   z=sugar_covid_df.corr(),\n",
        "                   x=['fips','cases', 'deaths', 'employed-sugar-intake-daily', 'Democrats', 'Republicans'],\n",
        "                   y=['fips','cases', 'deaths', 'employed-sugar-intake-daily', 'Democrats', 'Republicans'],\n",
        "                   hoverongaps = False))\n",
        "fig.show()"
      ],
      "execution_count": null,
      "outputs": [
        {
          "output_type": "display_data",
          "data": {
            "text/html": [
              "<html>\n",
              "<head><meta charset=\"utf-8\" /></head>\n",
              "<body>\n",
              "    <div>\n",
              "            <script src=\"https://cdnjs.cloudflare.com/ajax/libs/mathjax/2.7.5/MathJax.js?config=TeX-AMS-MML_SVG\"></script><script type=\"text/javascript\">if (window.MathJax) {MathJax.Hub.Config({SVG: {font: \"STIX-Web\"}});}</script>\n",
              "                <script type=\"text/javascript\">window.PlotlyConfig = {MathJaxConfig: 'local'};</script>\n",
              "        <script src=\"https://cdn.plot.ly/plotly-latest.min.js\"></script>    \n",
              "            <div id=\"65d1dd90-8f0b-4459-91a7-88d306485818\" class=\"plotly-graph-div\" style=\"height:525px; width:100%;\"></div>\n",
              "            <script type=\"text/javascript\">\n",
              "                \n",
              "                    window.PLOTLYENV=window.PLOTLYENV || {};\n",
              "                    \n",
              "                if (document.getElementById(\"65d1dd90-8f0b-4459-91a7-88d306485818\")) {\n",
              "                    Plotly.newPlot(\n",
              "                        '65d1dd90-8f0b-4459-91a7-88d306485818',\n",
              "                        [{\"hoverongaps\": false, \"type\": \"heatmap\", \"x\": [\"fips\", \"cases\", \"deaths\", \"employed-sugar-intake-daily\", \"Democrats\", \"Republicans\"], \"y\": [\"fips\", \"cases\", \"deaths\", \"employed-sugar-intake-daily\", \"Democrats\", \"Republicans\"], \"z\": [[1.0, 0.053268646157539325, 0.042490910294499286, 0.23130127403270198, -0.22855029398627552, 0.2285502939862756], [0.053268646157539325, 1.0, 0.9617830316963103, -0.14809655793731633, 0.2212465365317122, -0.22124653653171222], [0.042490910294499286, 0.9617830316963103, 1.0, -0.11998783350791421, 0.17847836909721573, -0.17847836909721576], [0.23130127403270198, -0.14809655793731633, -0.11998783350791421, 1.0, -0.7618123961231389, 0.7618123961231377], [-0.22855029398627552, 0.2212465365317122, 0.17847836909721573, -0.7618123961231389, 1.0, -1.0], [0.2285502939862756, -0.22124653653171222, -0.17847836909721576, 0.7618123961231377, -1.0, 1.0]]}],\n",
              "                        {\"template\": {\"data\": {\"bar\": [{\"error_x\": {\"color\": \"#2a3f5f\"}, \"error_y\": {\"color\": \"#2a3f5f\"}, \"marker\": {\"line\": {\"color\": \"#E5ECF6\", \"width\": 0.5}}, \"type\": \"bar\"}], \"barpolar\": [{\"marker\": {\"line\": {\"color\": \"#E5ECF6\", \"width\": 0.5}}, \"type\": \"barpolar\"}], \"carpet\": [{\"aaxis\": {\"endlinecolor\": \"#2a3f5f\", \"gridcolor\": \"white\", \"linecolor\": \"white\", \"minorgridcolor\": \"white\", \"startlinecolor\": \"#2a3f5f\"}, \"baxis\": {\"endlinecolor\": \"#2a3f5f\", \"gridcolor\": \"white\", \"linecolor\": \"white\", \"minorgridcolor\": \"white\", \"startlinecolor\": \"#2a3f5f\"}, \"type\": \"carpet\"}], \"choropleth\": [{\"colorbar\": {\"outlinewidth\": 0, \"ticks\": \"\"}, \"type\": \"choropleth\"}], \"contour\": [{\"colorbar\": {\"outlinewidth\": 0, \"ticks\": \"\"}, \"colorscale\": [[0.0, \"#0d0887\"], [0.1111111111111111, \"#46039f\"], [0.2222222222222222, \"#7201a8\"], [0.3333333333333333, \"#9c179e\"], [0.4444444444444444, \"#bd3786\"], [0.5555555555555556, \"#d8576b\"], [0.6666666666666666, \"#ed7953\"], [0.7777777777777778, \"#fb9f3a\"], [0.8888888888888888, \"#fdca26\"], [1.0, \"#f0f921\"]], \"type\": \"contour\"}], \"contourcarpet\": [{\"colorbar\": {\"outlinewidth\": 0, \"ticks\": \"\"}, \"type\": \"contourcarpet\"}], \"heatmap\": [{\"colorbar\": {\"outlinewidth\": 0, \"ticks\": \"\"}, \"colorscale\": [[0.0, \"#0d0887\"], [0.1111111111111111, \"#46039f\"], [0.2222222222222222, \"#7201a8\"], [0.3333333333333333, \"#9c179e\"], [0.4444444444444444, \"#bd3786\"], [0.5555555555555556, \"#d8576b\"], [0.6666666666666666, \"#ed7953\"], [0.7777777777777778, \"#fb9f3a\"], [0.8888888888888888, \"#fdca26\"], [1.0, \"#f0f921\"]], \"type\": \"heatmap\"}], \"heatmapgl\": [{\"colorbar\": {\"outlinewidth\": 0, \"ticks\": \"\"}, \"colorscale\": [[0.0, \"#0d0887\"], [0.1111111111111111, \"#46039f\"], [0.2222222222222222, \"#7201a8\"], [0.3333333333333333, \"#9c179e\"], [0.4444444444444444, \"#bd3786\"], [0.5555555555555556, \"#d8576b\"], [0.6666666666666666, \"#ed7953\"], [0.7777777777777778, \"#fb9f3a\"], [0.8888888888888888, \"#fdca26\"], [1.0, \"#f0f921\"]], \"type\": \"heatmapgl\"}], \"histogram\": [{\"marker\": {\"colorbar\": {\"outlinewidth\": 0, \"ticks\": \"\"}}, \"type\": \"histogram\"}], \"histogram2d\": [{\"colorbar\": {\"outlinewidth\": 0, \"ticks\": \"\"}, \"colorscale\": [[0.0, \"#0d0887\"], [0.1111111111111111, \"#46039f\"], [0.2222222222222222, \"#7201a8\"], [0.3333333333333333, \"#9c179e\"], [0.4444444444444444, \"#bd3786\"], [0.5555555555555556, \"#d8576b\"], [0.6666666666666666, \"#ed7953\"], [0.7777777777777778, \"#fb9f3a\"], [0.8888888888888888, \"#fdca26\"], [1.0, \"#f0f921\"]], \"type\": \"histogram2d\"}], \"histogram2dcontour\": [{\"colorbar\": {\"outlinewidth\": 0, \"ticks\": \"\"}, \"colorscale\": [[0.0, \"#0d0887\"], [0.1111111111111111, \"#46039f\"], [0.2222222222222222, \"#7201a8\"], [0.3333333333333333, \"#9c179e\"], [0.4444444444444444, \"#bd3786\"], [0.5555555555555556, \"#d8576b\"], [0.6666666666666666, \"#ed7953\"], [0.7777777777777778, \"#fb9f3a\"], [0.8888888888888888, \"#fdca26\"], [1.0, \"#f0f921\"]], \"type\": \"histogram2dcontour\"}], \"mesh3d\": [{\"colorbar\": {\"outlinewidth\": 0, \"ticks\": \"\"}, \"type\": \"mesh3d\"}], \"parcoords\": [{\"line\": {\"colorbar\": {\"outlinewidth\": 0, \"ticks\": \"\"}}, \"type\": \"parcoords\"}], \"pie\": [{\"automargin\": true, \"type\": \"pie\"}], \"scatter\": [{\"marker\": {\"colorbar\": {\"outlinewidth\": 0, \"ticks\": \"\"}}, \"type\": \"scatter\"}], \"scatter3d\": [{\"line\": {\"colorbar\": {\"outlinewidth\": 0, \"ticks\": \"\"}}, \"marker\": {\"colorbar\": {\"outlinewidth\": 0, \"ticks\": \"\"}}, \"type\": \"scatter3d\"}], \"scattercarpet\": [{\"marker\": {\"colorbar\": {\"outlinewidth\": 0, \"ticks\": \"\"}}, \"type\": \"scattercarpet\"}], \"scattergeo\": [{\"marker\": {\"colorbar\": {\"outlinewidth\": 0, \"ticks\": \"\"}}, \"type\": \"scattergeo\"}], \"scattergl\": [{\"marker\": {\"colorbar\": {\"outlinewidth\": 0, \"ticks\": \"\"}}, \"type\": \"scattergl\"}], \"scattermapbox\": [{\"marker\": {\"colorbar\": {\"outlinewidth\": 0, \"ticks\": \"\"}}, \"type\": \"scattermapbox\"}], \"scatterpolar\": [{\"marker\": {\"colorbar\": {\"outlinewidth\": 0, \"ticks\": \"\"}}, \"type\": \"scatterpolar\"}], \"scatterpolargl\": [{\"marker\": {\"colorbar\": {\"outlinewidth\": 0, \"ticks\": \"\"}}, \"type\": \"scatterpolargl\"}], \"scatterternary\": [{\"marker\": {\"colorbar\": {\"outlinewidth\": 0, \"ticks\": \"\"}}, \"type\": \"scatterternary\"}], \"surface\": [{\"colorbar\": {\"outlinewidth\": 0, \"ticks\": \"\"}, \"colorscale\": [[0.0, \"#0d0887\"], [0.1111111111111111, \"#46039f\"], [0.2222222222222222, \"#7201a8\"], [0.3333333333333333, \"#9c179e\"], [0.4444444444444444, \"#bd3786\"], [0.5555555555555556, \"#d8576b\"], [0.6666666666666666, \"#ed7953\"], [0.7777777777777778, \"#fb9f3a\"], [0.8888888888888888, \"#fdca26\"], [1.0, \"#f0f921\"]], \"type\": \"surface\"}], \"table\": [{\"cells\": {\"fill\": {\"color\": \"#EBF0F8\"}, \"line\": {\"color\": \"white\"}}, \"header\": {\"fill\": {\"color\": \"#C8D4E3\"}, \"line\": {\"color\": \"white\"}}, \"type\": \"table\"}]}, \"layout\": {\"annotationdefaults\": {\"arrowcolor\": \"#2a3f5f\", \"arrowhead\": 0, \"arrowwidth\": 1}, \"coloraxis\": {\"colorbar\": {\"outlinewidth\": 0, \"ticks\": \"\"}}, \"colorscale\": {\"diverging\": [[0, \"#8e0152\"], [0.1, \"#c51b7d\"], [0.2, \"#de77ae\"], [0.3, \"#f1b6da\"], [0.4, \"#fde0ef\"], [0.5, \"#f7f7f7\"], [0.6, \"#e6f5d0\"], [0.7, \"#b8e186\"], [0.8, \"#7fbc41\"], [0.9, \"#4d9221\"], [1, \"#276419\"]], \"sequential\": [[0.0, \"#0d0887\"], [0.1111111111111111, \"#46039f\"], [0.2222222222222222, \"#7201a8\"], [0.3333333333333333, \"#9c179e\"], [0.4444444444444444, \"#bd3786\"], [0.5555555555555556, \"#d8576b\"], [0.6666666666666666, \"#ed7953\"], [0.7777777777777778, \"#fb9f3a\"], [0.8888888888888888, \"#fdca26\"], [1.0, \"#f0f921\"]], \"sequentialminus\": [[0.0, \"#0d0887\"], [0.1111111111111111, \"#46039f\"], [0.2222222222222222, \"#7201a8\"], [0.3333333333333333, \"#9c179e\"], [0.4444444444444444, \"#bd3786\"], [0.5555555555555556, \"#d8576b\"], [0.6666666666666666, \"#ed7953\"], [0.7777777777777778, \"#fb9f3a\"], [0.8888888888888888, \"#fdca26\"], [1.0, \"#f0f921\"]]}, \"colorway\": [\"#636efa\", \"#EF553B\", \"#00cc96\", \"#ab63fa\", \"#FFA15A\", \"#19d3f3\", \"#FF6692\", \"#B6E880\", \"#FF97FF\", \"#FECB52\"], \"font\": {\"color\": \"#2a3f5f\"}, \"geo\": {\"bgcolor\": \"white\", \"lakecolor\": \"white\", \"landcolor\": \"#E5ECF6\", \"showlakes\": true, \"showland\": true, \"subunitcolor\": \"white\"}, \"hoverlabel\": {\"align\": \"left\"}, \"hovermode\": \"closest\", \"mapbox\": {\"style\": \"light\"}, \"paper_bgcolor\": \"white\", \"plot_bgcolor\": \"#E5ECF6\", \"polar\": {\"angularaxis\": {\"gridcolor\": \"white\", \"linecolor\": \"white\", \"ticks\": \"\"}, \"bgcolor\": \"#E5ECF6\", \"radialaxis\": {\"gridcolor\": \"white\", \"linecolor\": \"white\", \"ticks\": \"\"}}, \"scene\": {\"xaxis\": {\"backgroundcolor\": \"#E5ECF6\", \"gridcolor\": \"white\", \"gridwidth\": 2, \"linecolor\": \"white\", \"showbackground\": true, \"ticks\": \"\", \"zerolinecolor\": \"white\"}, \"yaxis\": {\"backgroundcolor\": \"#E5ECF6\", \"gridcolor\": \"white\", \"gridwidth\": 2, \"linecolor\": \"white\", \"showbackground\": true, \"ticks\": \"\", \"zerolinecolor\": \"white\"}, \"zaxis\": {\"backgroundcolor\": \"#E5ECF6\", \"gridcolor\": \"white\", \"gridwidth\": 2, \"linecolor\": \"white\", \"showbackground\": true, \"ticks\": \"\", \"zerolinecolor\": \"white\"}}, \"shapedefaults\": {\"line\": {\"color\": \"#2a3f5f\"}}, \"ternary\": {\"aaxis\": {\"gridcolor\": \"white\", \"linecolor\": \"white\", \"ticks\": \"\"}, \"baxis\": {\"gridcolor\": \"white\", \"linecolor\": \"white\", \"ticks\": \"\"}, \"bgcolor\": \"#E5ECF6\", \"caxis\": {\"gridcolor\": \"white\", \"linecolor\": \"white\", \"ticks\": \"\"}}, \"title\": {\"x\": 0.05}, \"xaxis\": {\"automargin\": true, \"gridcolor\": \"white\", \"linecolor\": \"white\", \"ticks\": \"\", \"title\": {\"standoff\": 15}, \"zerolinecolor\": \"white\", \"zerolinewidth\": 2}, \"yaxis\": {\"automargin\": true, \"gridcolor\": \"white\", \"linecolor\": \"white\", \"ticks\": \"\", \"title\": {\"standoff\": 15}, \"zerolinecolor\": \"white\", \"zerolinewidth\": 2}}}},\n",
              "                        {\"responsive\": true}\n",
              "                    ).then(function(){\n",
              "                            \n",
              "var gd = document.getElementById('65d1dd90-8f0b-4459-91a7-88d306485818');\n",
              "var x = new MutationObserver(function (mutations, observer) {{\n",
              "        var display = window.getComputedStyle(gd).display;\n",
              "        if (!display || display === 'none') {{\n",
              "            console.log([gd, 'removed!']);\n",
              "            Plotly.purge(gd);\n",
              "            observer.disconnect();\n",
              "        }}\n",
              "}});\n",
              "\n",
              "// Listen for the removal of the full notebook cells\n",
              "var notebookContainer = gd.closest('#notebook-container');\n",
              "if (notebookContainer) {{\n",
              "    x.observe(notebookContainer, {childList: true});\n",
              "}}\n",
              "\n",
              "// Listen for the clearing of the current output cell\n",
              "var outputEl = gd.closest('.output');\n",
              "if (outputEl) {{\n",
              "    x.observe(outputEl, {childList: true});\n",
              "}}\n",
              "\n",
              "                        })\n",
              "                };\n",
              "                \n",
              "            </script>\n",
              "        </div>\n",
              "</body>\n",
              "</html>"
            ]
          },
          "metadata": {
            "tags": []
          }
        }
>>>>>>> 6732020aa24fa62b4c396bbb8c7bf5f85786e657
      ]
    },
    {
      "cell_type": "code",
<<<<<<< HEAD
      "execution_count": null,
      "metadata": {
        "id": "ZFaYmi8fBE6_"
      },
      "outputs": [],
      "source": [
        "# sugar_covid_df.to_csv(\"covid-eda.csv\")"
      ]
=======
      "metadata": {
        "id": "ZFaYmi8fBE6_"
      },
      "source": [
        "sugar_covid_df.to_csv(\"covid-eda.csv\")"
      ],
      "execution_count": null,
      "outputs": []
>>>>>>> 6732020aa24fa62b4c396bbb8c7bf5f85786e657
    },
    {
      "cell_type": "markdown",
      "metadata": {
        "id": "lLqU5s5pH8PB"
      },
      "source": [
        "*What about Real-Estate Data?*"
      ]
    },
    {
      "cell_type": "markdown",
      "metadata": {
        "id": "M4W9aBagTHFC"
      },
      "source": []
    },
    {
      "cell_type": "markdown",
      "metadata": {
        "id": "IrRjhxe30C_q"
      },
      "source": [
        "## Modeling"
      ]
    },
    {
      "cell_type": "markdown",
      "metadata": {
        "id": "sdsYYSuy0Exu"
      },
      "source": []
    },
    {
      "cell_type": "markdown",
      "metadata": {
        "id": "ZFOuQGyn0E6w"
      },
      "source": [
        "## Conclusion\n"
      ]
    },
    {
      "cell_type": "markdown",
      "metadata": {
        "id": "cmcf2OJ40mm4"
      },
      "source": []
    }
<<<<<<< HEAD
  ],
  "metadata": {
    "colab": {
      "machine_shape": "hm",
      "name": "Chapter7-data-science.ipynb",
      "provenance": []
    },
    "kernelspec": {
      "display_name": "Python 3",
      "name": "python3"
    },
    "language_info": {
      "codemirror_mode": {
        "name": "ipython",
        "version": 3
      },
      "file_extension": ".py",
      "mimetype": "text/x-python",
      "name": "python",
      "nbconvert_exporter": "python",
      "pygments_lexer": "ipython3",
      "version": "3.12.1"
    }
  },
  "nbformat": 4,
  "nbformat_minor": 0
=======
  ]
>>>>>>> 6732020aa24fa62b4c396bbb8c7bf5f85786e657
}
